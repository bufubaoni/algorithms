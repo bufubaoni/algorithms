{
 "cells": [
  {
   "cell_type": "code",
   "execution_count": null,
   "metadata": {},
   "outputs": [],
   "source": [
    "from collections import defaultdict\n",
    "class Solution(object):\n",
    "    def distanceK(self, root, target, K):\n",
    "        \"\"\"\n",
    "        :type root: TreeNode\n",
    "        :type target: TreeNode\n",
    "        :type K: int\n",
    "        :rtype: List[int]\n",
    "        \"\"\"\n",
    "        graph = defaultdict(set)\n",
    "\n",
    "        bfs = [root]\n",
    "        while bfs:\n",
    "            nd = bfs.pop()\n",
    "            if nd.left:\n",
    "                bfs.append(nd.left)\n",
    "                graph[nd.val].add(nd.left.val)\n",
    "                graph[nd.left.val].add(nd.val)\n",
    "            if nd.right:\n",
    "                bfs.append(nd.right)\n",
    "                graph[nd.val].add(nd.right.val)\n",
    "                graph[nd.right.val].add(nd.val)\n",
    "        # print graph\n",
    "        cur = [target.val]\n",
    "        visited ={target.val}\n",
    "        while K:\n",
    "            next_time = []\n",
    "            while cur:\n",
    "                tmp = cur.pop()\n",
    "                for nd in graph[tmp]:\n",
    "                    if nd not in visited:\n",
    "                        visited.add(nd)\n",
    "                        next_time.append(nd)\n",
    "            K -= 1\n",
    "            cur = next_time\n",
    "        return cur"
   ]
  }
 ],
 "metadata": {
  "kernelspec": {
   "display_name": "Python 2",
   "language": "python",
   "name": "python2"
  },
  "language_info": {
   "codemirror_mode": {
    "name": "ipython",
    "version": 2
   },
   "file_extension": ".py",
   "mimetype": "text/x-python",
   "name": "python",
   "nbconvert_exporter": "python",
   "pygments_lexer": "ipython2",
   "version": "2.7.14"
  },
  "toc": {
   "base_numbering": 1,
   "nav_menu": {},
   "number_sections": true,
   "sideBar": true,
   "skip_h1_title": false,
   "title_cell": "##",
   "title_sidebar": "Contents",
   "toc_cell": false,
   "toc_position": {},
   "toc_section_display": true,
   "toc_window_display": true
  }
 },
 "nbformat": 4,
 "nbformat_minor": 2
}
