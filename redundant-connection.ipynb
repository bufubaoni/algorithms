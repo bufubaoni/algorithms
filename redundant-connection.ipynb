{
 "cells": [
  {
   "cell_type": "code",
   "execution_count": 38,
   "metadata": {},
   "outputs": [],
   "source": [
    "tests = [\n",
    "    ([[1,2], [1,3], [2,3]], [2,3]),\n",
    "    ([[1,2], [2,3], [3,4], [1,4], [1,5]], [1,4]),\n",
    "]\n",
    "class Solution(object):\n",
    "    def findRedundantConnection(self, edges):\n",
    "        \"\"\"\n",
    "        :type edges: List[List[int]]\n",
    "        :rtype: List[int]\n",
    "        \"\"\"\n",
    "        parent=range(len(edges)+1)\n",
    "        for edge in edges:\n",
    "            root1=self.union_search(edge[0],parent)\n",
    "            root2=self.union_search(edge[1],parent)\n",
    "            if root1==root2:\n",
    "                return edge\n",
    "            else:\n",
    "                parent[root1]=root2\n",
    "    def union_search(self, son, parent):\n",
    "        root=son\n",
    "        while root!=parent[root]:\n",
    "            root=parent[root]\n",
    "        while son!=root:\n",
    "            # son = 1 -> parent[son] = 2, tmp = 2 -> parent[son] = 4 ->son = 2\n",
    "            parent[son], son =  root, parent[son]\n",
    "    #         tmp=parent[son]\n",
    "    #         parent[son]=root\n",
    "    #         son=tmp\n",
    "        return root\n",
    "sl = Solution()\n",
    "for ipt,res in tests:\n",
    "    opt = sl.findRedundantConnection(ipt)\n",
    "    assert opt == res, (ipt, opt, res)"
   ]
  },
  {
   "cell_type": "code",
   "execution_count": 36,
   "metadata": {},
   "outputs": [
    {
     "name": "stdout",
     "output_type": "stream",
     "text": [
      "[0, 2, 3, 4, 4, 5]\n",
      "4 1\n",
      "4\n",
      "[0, 4, 4, 4, 4, 5]\n"
     ]
    }
   ],
   "source": [
    "\n",
    "parent = [0, 2, 3, 4, 4, 5]\n",
    "print parent\n",
    "print union_search(1, parent)\n",
    "# print parent\n",
    "# print union_search(4, parent)\n",
    "print parent\n"
   ]
  },
  {
   "cell_type": "code",
   "execution_count": null,
   "metadata": {},
   "outputs": [],
   "source": []
  }
 ],
 "metadata": {
  "kernelspec": {
   "display_name": "Python 2",
   "language": "python",
   "name": "python2"
  },
  "language_info": {
   "codemirror_mode": {
    "name": "ipython",
    "version": 2
   },
   "file_extension": ".py",
   "mimetype": "text/x-python",
   "name": "python",
   "nbconvert_exporter": "python",
   "pygments_lexer": "ipython2",
   "version": "2.7.14"
  },
  "toc": {
   "base_numbering": 1,
   "nav_menu": {},
   "number_sections": true,
   "sideBar": true,
   "skip_h1_title": false,
   "title_cell": "##",
   "title_sidebar": "Contents",
   "toc_cell": false,
   "toc_position": {},
   "toc_section_display": true,
   "toc_window_display": true
  }
 },
 "nbformat": 4,
 "nbformat_minor": 2
}
