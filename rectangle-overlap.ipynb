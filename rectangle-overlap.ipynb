{
 "cells": [
  {
   "cell_type": "code",
   "execution_count": 13,
   "metadata": {},
   "outputs": [],
   "source": [
    "tests = [\n",
    "    ([0,0,2,2], [1,1,3,3], True),\n",
    "    ([0,0,1,1], [1,0,2,1], False),\n",
    "    ([7,8,13,15], [10,8,12,20], True),\n",
    "    ([0,0,1,1], [1,0,2,1], False)\n",
    "]\n",
    "class Solution(object):\n",
    "    def isRectangleOverlap(self, rec1, rec2):\n",
    "        \"\"\"\n",
    "        :type rec1: List[int]\n",
    "        :type rec2: List[int]\n",
    "        :rtype: bool\n",
    "        \"\"\"\n",
    "        return self.overLap(rec1, rec2) and self.overLap(rec2, rec1)\n",
    "    def overLap(self, rec1, rec2):\n",
    "        rec1_x1 ,rec1_y1, rec1_x2 ,rec1_y2 = rec1\n",
    "        rec2_x1 ,rec2_y1, rec2_x2 ,rec2_y2 = rec2\n",
    "        if (rec2_x1 >= rec1_x2 or rec2_y1 >= rec1_y2):\n",
    "            return False\n",
    "        return True\n",
    "sl = Solution()\n",
    "for rec1, rec2, res in tests:\n",
    "    opt = sl.isRectangleOverlap(rec1, rec2)\n",
    "    assert res == opt , ((rec1,rec2), res, opt)"
   ]
  }
 ],
 "metadata": {
  "kernelspec": {
   "display_name": "Python 2",
   "language": "python",
   "name": "python2"
  },
  "language_info": {
   "codemirror_mode": {
    "name": "ipython",
    "version": 2
   },
   "file_extension": ".py",
   "mimetype": "text/x-python",
   "name": "python",
   "nbconvert_exporter": "python",
   "pygments_lexer": "ipython2",
   "version": "2.7.14"
  },
  "toc": {
   "base_numbering": 1,
   "nav_menu": {},
   "number_sections": true,
   "sideBar": true,
   "skip_h1_title": false,
   "title_cell": "##",
   "title_sidebar": "Contents",
   "toc_cell": false,
   "toc_position": {},
   "toc_section_display": true,
   "toc_window_display": true
  }
 },
 "nbformat": 4,
 "nbformat_minor": 2
}
