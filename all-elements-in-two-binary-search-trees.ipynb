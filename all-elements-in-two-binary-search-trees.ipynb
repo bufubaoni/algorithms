{
 "cells": [
  {
   "cell_type": "code",
   "execution_count": null,
   "metadata": {},
   "outputs": [],
   "source": [
    "# Definition for a binary tree node.\n",
    "# class TreeNode(object):\n",
    "#     def __init__(self, x):\n",
    "#         self.val = x\n",
    "#         self.left = None\n",
    "#         self.right = None\n",
    "\n",
    "class Solution(object):\n",
    "    def getAllElements(self, root1, root2):\n",
    "        \"\"\"\n",
    "        :type root1: TreeNode\n",
    "        :type root2: TreeNode\n",
    "        :rtype: List[int]\n",
    "        \"\"\"\n",
    "        return sorted(self.getOneElements(root1) + self.getOneElements(root2))\n",
    "    \n",
    "    def getOneElements(self, root):\n",
    "        if not root:\n",
    "            return []\n",
    "        bfs = [root]\n",
    "        res = []\n",
    "        while bfs:\n",
    "            \n",
    "            item = bfs.pop()\n",
    "\n",
    "            if item.left:\n",
    "                bfs.append(item.left)\n",
    "            if item.right:\n",
    "                bfs.append(item.right)\n",
    "            \n",
    "            res.append(item.val)\n",
    "        \n",
    "        return res"
   ]
  }
 ],
 "metadata": {
  "kernelspec": {
   "display_name": "Python 2",
   "language": "python",
   "name": "python2"
  },
  "language_info": {
   "codemirror_mode": {
    "name": "ipython",
    "version": 2
   },
   "file_extension": ".py",
   "mimetype": "text/x-python",
   "name": "python",
   "nbconvert_exporter": "python",
   "pygments_lexer": "ipython2",
   "version": "2.7.14"
  },
  "toc": {
   "base_numbering": 1,
   "nav_menu": {},
   "number_sections": true,
   "sideBar": true,
   "skip_h1_title": false,
   "title_cell": "##",
   "title_sidebar": "Contents",
   "toc_cell": false,
   "toc_position": {},
   "toc_section_display": true,
   "toc_window_display": true
  }
 },
 "nbformat": 4,
 "nbformat_minor": 2
}
