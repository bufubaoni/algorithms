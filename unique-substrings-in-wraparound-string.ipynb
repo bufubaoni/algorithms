{
 "cells": [
  {
   "cell_type": "code",
   "execution_count": 8,
   "metadata": {},
   "outputs": [],
   "source": [
    "tests = [\n",
    "#     (\"a\", 1),\n",
    "#     (\"cac\", 2),\n",
    "#     (\"zab\", 6),\n",
    "#     (\"abaab\", 3),\n",
    "    (\"zabcdefghijklmnopqrstuvwxyzabcdefghijklmnopqrstuvwxyzabcd\" , 1157)\n",
    "]\n",
    "class Solution(object):\n",
    "    def findSubstringInWraproundString(self, p):\n",
    "        \"\"\"\n",
    "        :type p: str\n",
    "        :rtype: int\n",
    "        \"\"\"\n",
    "        return self.find_p(p)\n",
    "    \n",
    "    def find_p(self, s):\n",
    "        dp = [0]*26\n",
    "        p_len = 1\n",
    "        dp[ord(s[0])-ord('a')] =  1\n",
    "        \n",
    "        for idx in range(1, len(s)):\n",
    "            gap = ord(s[idx]) - ord(s[idx-1])\n",
    "            if gap == 1 or gap == -25:\n",
    "                p_len += 1\n",
    "            else:\n",
    "                p_len = 1\n",
    "            dp[ord(s[idx]) - ord(\"a\")] = max(dp[ord(s[idx]) - ord(\"a\")], p_len)\n",
    "        return sum(dp)\n",
    "    \n",
    "            \n",
    "            \n",
    "sl = Solution()\n",
    "for ipt, res in tests:\n",
    "    opt = sl.findSubstringInWraproundString(ipt)\n",
    "    assert res == opt, (ipt, res, opt)"
   ]
  },
  {
   "cell_type": "code",
   "execution_count": 6,
   "metadata": {},
   "outputs": [
    {
     "name": "stdout",
     "output_type": "stream",
     "text": [
      "26 26\n"
     ]
    }
   ],
   "source": [
    "print len('zabcdefghijklmnopqrstuvwxy'), len('abcdefghijklmnopqrstuvwxyz')"
   ]
  },
  {
   "cell_type": "code",
   "execution_count": 1,
   "metadata": {},
   "outputs": [
    {
     "name": "stdout",
     "output_type": "stream",
     "text": [
      "97\n"
     ]
    }
   ],
   "source": [
    "print ord(\"a\")"
   ]
  },
  {
   "cell_type": "code",
   "execution_count": null,
   "metadata": {},
   "outputs": [],
   "source": [
    "# 解题思路\n",
    "\n",
    "# 套路题，创建以每个字母为结尾的列表，返回最后的总和就可以了\n",
    "# 我们记录每个字母为结尾的列表时，只记录最长的那个，因为最长的以它为结尾的字符串必然包含了较短的以它本身为结尾的字符串的所有字串\n",
    "# 不需要重复计数\n",
    "# 代码\n",
    "\n",
    "class Solution:\n",
    "    def findSubstringInWraproundString(self, p):\n",
    "        if not p:\n",
    "            return 0\n",
    "        hashmap=[0]*26\n",
    "        hashmap[ord(p[0])-ord(\"a\")]=1\n",
    "        prelen=1\n",
    "        for i in range(1,len(p)):\n",
    "            gap=ord(p[i])-ord(p[i-1])\n",
    "            if gap==1 or gap==-25:\n",
    "                prelen+=1\n",
    "            else:\n",
    "                prelen=1\n",
    "            hashmap[ord(p[i])-ord(\"a\")]=max(hashmap[ord(p[i])-ord(\"a\")],prelen)\n",
    "        return sum(hashmap)\n"
   ]
  }
 ],
 "metadata": {
  "kernelspec": {
   "display_name": "Python 2",
   "language": "python",
   "name": "python2"
  },
  "language_info": {
   "codemirror_mode": {
    "name": "ipython",
    "version": 2
   },
   "file_extension": ".py",
   "mimetype": "text/x-python",
   "name": "python",
   "nbconvert_exporter": "python",
   "pygments_lexer": "ipython2",
   "version": "2.7.14"
  },
  "toc": {
   "base_numbering": 1,
   "nav_menu": {},
   "number_sections": true,
   "sideBar": true,
   "skip_h1_title": false,
   "title_cell": "##",
   "title_sidebar": "Contents",
   "toc_cell": false,
   "toc_position": {},
   "toc_section_display": true,
   "toc_window_display": true
  }
 },
 "nbformat": 4,
 "nbformat_minor": 2
}
