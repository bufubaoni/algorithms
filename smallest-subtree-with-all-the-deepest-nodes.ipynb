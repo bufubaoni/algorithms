{
 "cells": [
  {
   "cell_type": "code",
   "execution_count": null,
   "metadata": {},
   "outputs": [],
   "source": [
    "class Solution(object):\n",
    "    def subtreeWithAllDeepest(self, root):\n",
    "        \"\"\"\n",
    "        :type root: TreeNode\n",
    "        :rtype: TreeNode\n",
    "        \"\"\"\n",
    "        return self.trival_tree(root)\n",
    "    \n",
    "    def trival_tree(self, root):\n",
    "        tr = [root]\n",
    "        while tr:\n",
    "            tr.pop()\n",
    "            if isinstance(root.left, TreeNode):\n",
    "                tr.append(root.left)\n",
    "            if isinstance(root.right, TreeNode):\n",
    "                tr.append(root.right)\n",
    "            if len(tr) == 1:\n",
    "                return tr"
   ]
  },
  {
   "cell_type": "code",
   "execution_count": null,
   "metadata": {},
   "outputs": [],
   "source": [
    "class Solution:\n",
    "    def subtreeWithAllDeepest(self, root):\n",
    "        ans, ans_dep = None , 0\n",
    "        self.f(root, 0, ans, ans_dep)\n",
    "        return ans\n",
    "    def f(self, root, i, ans, ans_dep):\n",
    "            if not root:\n",
    "                return i\n",
    "            l_dep = f(root.left, i + 1, ans, ans_dep)\n",
    "            r_dep = f(root.right, i + 1, ans, ans_dep)\n",
    "            nonlocal ans, ans_dep\n",
    "            if l_dep == r_dep and l_dep >= ans_dep:\n",
    "                ans = root\n",
    "                ans_dep = l_dep\n",
    "            return max(l_dep, r_dep)"
   ]
  }
 ],
 "metadata": {
  "kernelspec": {
   "display_name": "Python 2",
   "language": "python",
   "name": "python2"
  },
  "language_info": {
   "codemirror_mode": {
    "name": "ipython",
    "version": 2
   },
   "file_extension": ".py",
   "mimetype": "text/x-python",
   "name": "python",
   "nbconvert_exporter": "python",
   "pygments_lexer": "ipython2",
   "version": "2.7.14"
  },
  "toc": {
   "base_numbering": 1,
   "nav_menu": {},
   "number_sections": true,
   "sideBar": true,
   "skip_h1_title": false,
   "title_cell": "##",
   "title_sidebar": "Contents",
   "toc_cell": false,
   "toc_position": {},
   "toc_section_display": true,
   "toc_window_display": true
  }
 },
 "nbformat": 4,
 "nbformat_minor": 2
}
