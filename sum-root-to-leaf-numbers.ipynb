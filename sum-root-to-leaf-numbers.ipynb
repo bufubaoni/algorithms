{
 "cells": [
  {
   "cell_type": "code",
   "execution_count": null,
   "metadata": {},
   "outputs": [],
   "source": [
    "class Solution(object):\n",
    "    def sumNumbers(self, root):\n",
    "        \"\"\"\n",
    "        :type root: TreeNode\n",
    "        :rtype: int\n",
    "        \"\"\"\n",
    "        if not root:\n",
    "            return 0\n",
    "        return sum([int(item)for item in self.trival_tree(root, '', [])])\n",
    "    \n",
    "    def trival_tree(self, root, s, nums):\n",
    "        # 如果 左右都没有那么说明已经到底\n",
    "        if not root.left and not root.right:\n",
    "            nums.append(s+str(root.val))\n",
    "\n",
    "        if isinstance(root.left, TreeNode):\n",
    "            self.trival_tree(root.left, s+str(root.val), nums)\n",
    "        if isinstance(root.right, TreeNode):\n",
    "            self.trival_tree(root.right, s+str(root.val), nums) \n",
    "        return nums"
   ]
  }
 ],
 "metadata": {
  "kernelspec": {
   "display_name": "Python 2",
   "language": "python",
   "name": "python2"
  },
  "language_info": {
   "codemirror_mode": {
    "name": "ipython",
    "version": 2
   },
   "file_extension": ".py",
   "mimetype": "text/x-python",
   "name": "python",
   "nbconvert_exporter": "python",
   "pygments_lexer": "ipython2",
   "version": "2.7.14"
  },
  "toc": {
   "base_numbering": 1,
   "nav_menu": {},
   "number_sections": true,
   "sideBar": true,
   "skip_h1_title": false,
   "title_cell": "##",
   "title_sidebar": "Contents",
   "toc_cell": false,
   "toc_position": {},
   "toc_section_display": true,
   "toc_window_display": true
  }
 },
 "nbformat": 4,
 "nbformat_minor": 2
}
