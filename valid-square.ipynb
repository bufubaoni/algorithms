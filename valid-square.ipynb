{
 "cells": [
  {
   "cell_type": "code",
   "execution_count": 3,
   "metadata": {},
   "outputs": [],
   "source": [
    "tests = [\n",
    "    (([0,0],[1,1],[1,0],[0,1]), True)\n",
    "]\n",
    "from collections import Counter\n",
    "class Solution(object):\n",
    "    def validSquare(self, p1, p2, p3, p4):\n",
    "        \"\"\"\n",
    "        :type p1: List[int]\n",
    "        :type p2: List[int]\n",
    "        :type p3: List[int]\n",
    "        :type p4: List[int]\n",
    "        :rtype: bool\n",
    "        \"\"\"\n",
    "        _l_destance = [self.des(p1,p2),\n",
    "                         self.des(p1,p3),\n",
    "                         self.des(p1,p4),\n",
    "                         self.des(p2,p3),\n",
    "                         self.des(p2,p4),\n",
    "                         self.des(p3,p4)]\n",
    "        _i_d = Counter(_l_destance)\n",
    "        l_i_d = [(k,v) for k, v in _i_d.items()]\n",
    "        l_i_d.sort(key=lambda x : x[0])\n",
    "        if len(l_i_d) != 2:\n",
    "            return False\n",
    "        \n",
    "        if l_i_d[0][0] * 2 != l_i_d[1][0]:\n",
    "            return False\n",
    "        if l_i_d[0][1]  != l_i_d[1][1] *2:\n",
    "            return False\n",
    "        \n",
    "        return True\n",
    "        \n",
    "    def des(self, p1,p2):\n",
    "        return (p1[0] - p2[0])*(p1[0] - p2[0]) + (p1[1] - p2[1])*(p1[1] - p2[1]) \n",
    "sl = Solution()\n",
    "for (p1,p2,p3,p4), res in tests:\n",
    "    opt = sl.validSquare(p1,p2,p3,p4)\n",
    "    assert opt == res, ((p1,p2,p3,p4), opt, res)"
   ]
  },
  {
   "cell_type": "code",
   "execution_count": null,
   "metadata": {},
   "outputs": [],
   "source": []
  }
 ],
 "metadata": {
  "kernelspec": {
   "display_name": "Python 2",
   "language": "python",
   "name": "python2"
  },
  "language_info": {
   "codemirror_mode": {
    "name": "ipython",
    "version": 2
   },
   "file_extension": ".py",
   "mimetype": "text/x-python",
   "name": "python",
   "nbconvert_exporter": "python",
   "pygments_lexer": "ipython2",
   "version": "2.7.14"
  },
  "toc": {
   "base_numbering": 1,
   "nav_menu": {},
   "number_sections": true,
   "sideBar": true,
   "skip_h1_title": false,
   "title_cell": "##",
   "title_sidebar": "Contents",
   "toc_cell": false,
   "toc_position": {},
   "toc_section_display": true,
   "toc_window_display": true
  }
 },
 "nbformat": 4,
 "nbformat_minor": 2
}
