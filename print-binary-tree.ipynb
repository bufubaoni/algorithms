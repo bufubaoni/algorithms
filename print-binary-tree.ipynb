{
 "cells": [
  {
   "cell_type": "code",
   "execution_count": null,
   "metadata": {},
   "outputs": [],
   "source": [
    "class Solution(object):\n",
    "    def printTree(self, root):\n",
    "        \"\"\"\n",
    "        :type root: TreeNode\n",
    "        :rtype: List[List[str]]\n",
    "        \"\"\"\n",
    "        m = self.get_depth(root)\n",
    "        n = pow(2, m) - 1\n",
    "        res = [ [\"\" for item in range(n) ]for item in range(m)]\n",
    "        self.fill(root, 0, (n-1) // 2, (n+1)//4, res)\n",
    "        return res\n",
    "        \n",
    "    def fill(self, root, i, j, res):\n",
    "        if not root:\n",
    "            return \n",
    "        if not root.right and not root.left:\n",
    "            return \n",
    "        res[i][j] = str(root.val, space)\n",
    "        file(root.left, i+1, j - space, space//2, res)\n",
    "        file(root.right, i+1, j + space, space//2, res)\n",
    "        return res\n",
    "    def get_depth(self, root):\n",
    "        if not root:\n",
    "            return 0\n",
    "        else:\n",
    "            return max(self.get_depth(root.left), self.get_depth(root.right)) + 1"
   ]
  },
  {
   "cell_type": "code",
   "execution_count": 6,
   "metadata": {},
   "outputs": [
    {
     "name": "stdout",
     "output_type": "stream",
     "text": [
      "4\n"
     ]
    }
   ],
   "source": [
    "class Solution(object):\n",
    "    def printTree(self, root):\n",
    "        \"\"\"\n",
    "        :type root: TreeNode\n",
    "        :rtype: List[List[str]]\n",
    "        \"\"\"\n",
    "        queue=[root]\n",
    "        while queue:\n",
    "            next_level = []\n",
    "            for i in range(len(queue)):\n",
    "                if queue[i].left:\n",
    "                    next_level.append(queue[i].left)\n",
    "                if queue[i].right:\n",
    "                    next_level.append(queue[i].right)\n",
    "                if i < len(queue)-1:\n",
    "                    queue[i].next = queue[i+1]\n",
    "            queue = next_level\n",
    "        return res"
   ]
  },
  {
   "cell_type": "code",
   "execution_count": 2,
   "metadata": {},
   "outputs": [
    {
     "name": "stdout",
     "output_type": "stream",
     "text": [
      "8\n"
     ]
    }
   ],
   "source": []
  },
  {
   "cell_type": "code",
   "execution_count": null,
   "metadata": {},
   "outputs": [],
   "source": []
  }
 ],
 "metadata": {
  "kernelspec": {
   "display_name": "Python 2",
   "language": "python",
   "name": "python2"
  },
  "language_info": {
   "codemirror_mode": {
    "name": "ipython",
    "version": 2
   },
   "file_extension": ".py",
   "mimetype": "text/x-python",
   "name": "python",
   "nbconvert_exporter": "python",
   "pygments_lexer": "ipython2",
   "version": "2.7.14"
  },
  "toc": {
   "base_numbering": 1,
   "nav_menu": {},
   "number_sections": true,
   "sideBar": true,
   "skip_h1_title": false,
   "title_cell": "##",
   "title_sidebar": "Contents",
   "toc_cell": false,
   "toc_position": {},
   "toc_section_display": true,
   "toc_window_display": true
  }
 },
 "nbformat": 4,
 "nbformat_minor": 2
}
