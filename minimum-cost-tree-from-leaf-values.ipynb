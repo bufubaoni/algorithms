{
 "cells": [
  {
   "cell_type": "code",
   "execution_count": 20,
   "metadata": {},
   "outputs": [],
   "source": [
    "tests = [\n",
    "    ([6,2,4], 32)\n",
    "]\n",
    "\n",
    "class Solution(object):\n",
    "    def mctFromLeafValues(self, arr):\n",
    "        \"\"\"\n",
    "        :type arr: List[int]\n",
    "        :rtype: int\n",
    "        \"\"\"\n",
    "        stack = []\n",
    "        mct = 0\n",
    "        \n",
    "        for num in arr:                        # 6      | 2              | 4\n",
    "            while stack and num > stack[-1]:   # []     | [6] and 2 > 6  | [6, 2] and 4 > 2\n",
    "                min_1 = stack.pop()            #        |                | min_1 = 2\n",
    "                if stack:                      #        |                | [6]\n",
    "                    min_2 = min(stack[-1], num)#        |                | min_2 = min(6, 4) -> 4  \n",
    "                else:                          #        |                | \n",
    "                    min_2 = num                #        |                |\n",
    "                mct = mct + min_1 * min_2      #        |                | mct = 0 + 2 * 4 -> 8\n",
    "            stack.append(num)                  # [6]    | [6, 2]         | [6, 4]\n",
    "\n",
    "        while len(stack) > 1:                   # [6, 4]                | [6]\n",
    "            mct = mct + stack.pop() * stack[-1] # mct = 8 + 4 * 6 = 24  | mct = 8 + 2 * 6 = 20\n",
    "        return mct                   \n",
    "\n",
    "            \n",
    "sl = Solution()\n",
    "for ipt,res in tests:\n",
    "    opt = sl.mctFromLeafValues(ipt)\n",
    "    assert opt == res, (ipt, opt, res)      "
   ]
  },
  {
   "cell_type": "code",
   "execution_count": null,
   "metadata": {},
   "outputs": [],
   "source": []
  }
 ],
 "metadata": {
  "kernelspec": {
   "display_name": "Python 2",
   "language": "python",
   "name": "python2"
  },
  "language_info": {
   "codemirror_mode": {
    "name": "ipython",
    "version": 2
   },
   "file_extension": ".py",
   "mimetype": "text/x-python",
   "name": "python",
   "nbconvert_exporter": "python",
   "pygments_lexer": "ipython2",
   "version": "2.7.14"
  },
  "toc": {
   "base_numbering": 1,
   "nav_menu": {},
   "number_sections": true,
   "sideBar": true,
   "skip_h1_title": false,
   "title_cell": "##",
   "title_sidebar": "Contents",
   "toc_cell": false,
   "toc_position": {},
   "toc_section_display": true,
   "toc_window_display": true
  }
 },
 "nbformat": 4,
 "nbformat_minor": 2
}
