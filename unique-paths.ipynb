{
 "cells": [
  {
   "cell_type": "code",
   "execution_count": 7,
   "metadata": {},
   "outputs": [],
   "source": [
    "tests = [\n",
    "    ((3,2),3),\n",
    "    ((7,3),28)\n",
    "]\n",
    "class Solution(object):\n",
    "    def uniquePaths(self, m, n):\n",
    "        \"\"\"\n",
    "        :type m: int\n",
    "        :type n: int\n",
    "        :rtype: int\n",
    "        \"\"\"\n",
    "        if m == 1 or n ==1:\n",
    "            return 1\n",
    "        mp = [[0 for item in range(m+1)] for item in range(n+1)]\n",
    "        mp[0][1] = 1\n",
    "        for i in range(1, n+1):\n",
    "            for j in range(1, m+1):\n",
    "                mp[i][j] = mp[i][j-1]+mp[i-1][j]\n",
    "        return mp[-1][-1]\n",
    "sl = Solution()\n",
    "for ipt,res in tests:\n",
    "    opt = sl.uniquePaths(ipt[0], ipt[1])\n",
    "    assert opt == res, (ipt, opt, res)"
   ]
  },
  {
   "cell_type": "code",
   "execution_count": null,
   "metadata": {},
   "outputs": [],
   "source": []
  },
  {
   "cell_type": "code",
   "execution_count": null,
   "metadata": {},
   "outputs": [],
   "source": []
  }
 ],
 "metadata": {
  "kernelspec": {
   "display_name": "Python 2",
   "language": "python",
   "name": "python2"
  },
  "language_info": {
   "codemirror_mode": {
    "name": "ipython",
    "version": 2
   },
   "file_extension": ".py",
   "mimetype": "text/x-python",
   "name": "python",
   "nbconvert_exporter": "python",
   "pygments_lexer": "ipython2",
   "version": "2.7.14"
  },
  "toc": {
   "base_numbering": 1,
   "nav_menu": {},
   "number_sections": true,
   "sideBar": true,
   "skip_h1_title": false,
   "title_cell": "##",
   "title_sidebar": "Contents",
   "toc_cell": false,
   "toc_position": {},
   "toc_section_display": true,
   "toc_window_display": true
  }
 },
 "nbformat": 4,
 "nbformat_minor": 2
}
