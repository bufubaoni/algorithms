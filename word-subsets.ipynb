{
 "cells": [
  {
   "cell_type": "code",
   "execution_count": 6,
   "metadata": {},
   "outputs": [
    {
     "name": "stdout",
     "output_type": "stream",
     "text": [
      "[('a', 2), ('c', 1), ('b', 1)]\n"
     ]
    },
    {
     "data": {
      "text/plain": [
       "['abbac', 'aabac']"
      ]
     },
     "execution_count": 6,
     "metadata": {},
     "output_type": "execute_result"
    }
   ],
   "source": [
    "# A = [\"amazon\",\"apple\",\"facebook\",\"google\",\"leetcode\"]\n",
    "# B = [\"e\",\"o\"]\n",
    "# [\"facebook\",\"google\",\"leetcode\"]\n",
    "import time\n",
    "import timeout_decorator\n",
    "from collections import Counter\n",
    "\n",
    "A = [\"amazon\",\"apple\",\"facebook\",\"google\",\"leetcode\"]\n",
    "# B = [\"e\", \"o\"]\n",
    "B = [\"e\",\"oo\"]\n",
    "A = [\"amazon\",\"apple\",\"facebook\",\"google\",\"leetcode\"]\n",
    "B = [\"ec\",\"oc\",\"ceo\"]\n",
    "\n",
    "A =[\"abbac\",\"aabac\",\"bbacb\",\"aacac\",\"bcabb\"]\n",
    "B =[\"c\",\"bc\",\"aa\"]\n",
    "\n",
    "\n",
    "def check_bucket(bucket_a, bucket_b):\n",
    "    for key, value in bucket_b.items():\n",
    "        if bucket_a.get(key, 0) < value:\n",
    "            return False\n",
    "    return True\n",
    "\n",
    "def bulk_al(word):\n",
    "    return Counter(word)\n",
    "\n",
    "@timeout_decorator.timeout(10)\n",
    "def wordSubsets( A, B):\n",
    "    collection_set_B = [(item, Counter(item)) for item in set(B)]\n",
    "    max_al = {}\n",
    "    r = []\n",
    "    for item, set_b in collection_set_B:\n",
    "        for key, value in set_b.items():\n",
    "            if not key in max_al:\n",
    "                max_al[key] = value\n",
    "            else:\n",
    "                if max_al[key] < value:\n",
    "                    max_al[key] = value\n",
    "    s = [(k,v)for k, v in max_al.items()]\n",
    "    s.sort(key=lambda x:x[1], reverse=True)\n",
    "    print s\n",
    "    for word_a in A:\n",
    "        max_passed = True\n",
    "        set_a = bulk_al(word_a)\n",
    "        for k, v in s:\n",
    "            if set_a.get(k) < v:\n",
    "                max_passed = False\n",
    "                continue\n",
    "\n",
    "        for item_b, set_b in collection_set_B:\n",
    "            passed = True\n",
    "            if not check_bucket(set_a, set_b):\n",
    "                passed = False\n",
    "                break\n",
    "        if passed:\n",
    "            r.append(word_a) \n",
    "    return r\n",
    "list(wordSubsets(A, B))\n",
    "# print split_b('facebook')"
   ]
  },
  {
   "cell_type": "code",
   "execution_count": 64,
   "metadata": {},
   "outputs": [
    {
     "data": {
      "text/plain": [
       "{'a', 'b'}"
      ]
     },
     "execution_count": 64,
     "metadata": {},
     "output_type": "execute_result"
    }
   ],
   "source": [
    "set('abc') and set('ab')"
   ]
  },
  {
   "cell_type": "code",
   "execution_count": null,
   "metadata": {},
   "outputs": [],
   "source": []
  }
 ],
 "metadata": {
  "kernelspec": {
   "display_name": "Python 2",
   "language": "python",
   "name": "python2"
  },
  "language_info": {
   "codemirror_mode": {
    "name": "ipython",
    "version": 2
   },
   "file_extension": ".py",
   "mimetype": "text/x-python",
   "name": "python",
   "nbconvert_exporter": "python",
   "pygments_lexer": "ipython2",
   "version": "2.7.14"
  },
  "toc": {
   "base_numbering": 1,
   "nav_menu": {},
   "number_sections": true,
   "sideBar": true,
   "skip_h1_title": false,
   "title_cell": "##",
   "title_sidebar": "Contents",
   "toc_cell": false,
   "toc_position": {},
   "toc_section_display": true,
   "toc_window_display": true
  }
 },
 "nbformat": 4,
 "nbformat_minor": 2
}
