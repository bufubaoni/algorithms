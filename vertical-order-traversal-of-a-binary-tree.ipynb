{
 "cells": [
  {
   "cell_type": "code",
   "execution_count": 126,
   "metadata": {},
   "outputs": [],
   "source": [
    "# Definition for a binary tree node.\n",
    "class TreeNode(object):\n",
    "    def __init__(self, x):\n",
    "        self.val = x\n",
    "        self.left = None\n",
    "        self.right = None\n",
    "    def __repr__(self):\n",
    "        return \"{}:({} ,{})\".format(self.val, self.left, self.right)\n",
    "\n",
    "\n",
    "class Solution(object):\n",
    "    def verticalTraversal(self, root):\n",
    "        \"\"\"\n",
    "        :type root: TreeNode\n",
    "        :rtype: List[List[int]]\n",
    "        \"\"\"\n",
    "        pass"
   ]
  },
  {
   "cell_type": "code",
   "execution_count": 76,
   "metadata": {},
   "outputs": [
    {
     "name": "stdout",
     "output_type": "stream",
     "text": [
      "3 9\n",
      "3 20\n",
      "9 None\n",
      "9 None\n",
      "20 15\n",
      "20 7\n",
      "([(0, 0, 3), (-1, 1, 9), (1, 1, 20), (0, 2, None), (2, 2, None), (1, 3, 15), (3, 3, 7)], 3)\n"
     ]
    }
   ],
   "source": [
    "import pdb\n",
    "def build_tree(root, n_list, p):\n",
    "    tree = []\n",
    "    if not root:\n",
    "        root = TreeNode(n_list[0])\n",
    "        p += 1\n",
    "        x , y = 0,0\n",
    "        tree.append((x,y, n_list[0]))\n",
    "\n",
    "    for num in n_list:\n",
    "        y += 1\n",
    "        root = TreeNode(num)\n",
    "        for i in range(2):\n",
    "            if not num:\n",
    "                break\n",
    "            if p >= len(n_list):\n",
    "                break\n",
    "            print num, n_list[p]\n",
    "            val=n_list[p]\n",
    "            node = TreeNode(val)\n",
    "            p += 1\n",
    "            if not root.left:\n",
    "                root.left=node\n",
    "                tree.append((x - 1, y, val))\n",
    "                continue\n",
    "            if not root.right:\n",
    "                tree.append((x + 1, y, val))\n",
    "                root.right=node\n",
    "        \n",
    "    return tree, x\n",
    "\n",
    "        \n",
    "tree = build_tree(None, [3,9,20,None,None,15,7], 0)\n",
    "print tree\n"
   ]
  },
  {
   "cell_type": "code",
   "execution_count": 189,
   "metadata": {},
   "outputs": [
    {
     "name": "stdout",
     "output_type": "stream",
     "text": [
      "0 8\n",
      "0 1\n",
      "8 None\n",
      "8 None\n",
      "1 3\n",
      "1 2\n",
      "None None\n",
      "None 4\n",
      "3 5\n",
      "3 None\n",
      "2 None\n",
      "2 7\n",
      "None 6\n",
      "{0: 0:(8:(Null ,Null) ,1:(3:(5:(None ,None) ,Null) ,2:(Null ,7:(None ,None)))), 1: 8:(Null ,Null), 2: 1:(3:(5:(None ,None) ,Null) ,2:(Null ,7:(None ,None))), 3: 'Null', 4: 'Null', 5: 3:(5:(None ,None) ,Null), 6: 2:(Null ,7:(None ,None)), 7: 'Null', 8: 4:(None ,None), 9: 5:(None ,None), 10: 'Null', 11: 'Null', 12: 7:(None ,None), 13: 6:(None ,None)}\n",
      "0\n"
     ]
    }
   ],
   "source": [
    "n_list=[0,8,1,None,None,3,2,None,4,5,None,None,7,6]\n",
    "def build_tree2(n_list):\n",
    "    mp_node = {}\n",
    "    tree = None\n",
    "    for idx, num in enumerate(n_list):\n",
    "        if idx not in mp_node:\n",
    "            root=TreeNode(num)\n",
    "            mp_node[idx] = root\n",
    "            tree = root\n",
    "        else:\n",
    "            root = mp_node.get(idx)\n",
    "        for i in range(1, len(n_list)):\n",
    "            if i in mp_node:\n",
    "                continue\n",
    "            print num, n_list[i]\n",
    "            val = n_list[i]\n",
    "            if not n_list[i]:\n",
    "                mp_node[i] = None\n",
    "            node = TreeNode(n_list[i]) if n_list[i] else 'Null'\n",
    "            mp_node[i] = node\n",
    "            if isinstance(root, TreeNode) and not root.left:\n",
    "                root.left=node\n",
    "                continue\n",
    "            if isinstance(root, TreeNode) and not root.right:\n",
    "                root.right=node\n",
    "            break\n",
    "        if len(mp_node) == len(n_list):\n",
    "            break\n",
    "    print mp_node \n",
    "    return tree\n",
    "    \n",
    "\n",
    "tree = build_tree2(n_list)\n",
    "\n",
    "print tree.val, "
   ]
  },
  {
   "cell_type": "code",
   "execution_count": 190,
   "metadata": {},
   "outputs": [
    {
     "name": "stdout",
     "output_type": "stream",
     "text": [
      "[((0, 0), 0), ((-1, 1), 8), ((1, 1), 1), ((0, 2), 3), ((-1, 3), 5), ((2, 2), 2), ((3, 3), 7)]\n"
     ]
    }
   ],
   "source": [
    "\n",
    "\n",
    "def vertical_traversal(root, l, x, y):\n",
    "\n",
    "    if isinstance(root, TreeNode):\n",
    "        l.append(((x, y), root.val))\n",
    "        if root.left:\n",
    "            lv = vertical_traversal(root.left, l, x - 1, y + 1)\n",
    "        if root.right:\n",
    "            rv = vertical_traversal(root.right, l, x + 1, y + 1)\n",
    "        return l\n",
    "    else:\n",
    "        return l\n",
    "print vertical_traversal(tree, [], 0, 0)\n",
    "\n"
   ]
  },
  {
   "cell_type": "code",
   "execution_count": 191,
   "metadata": {},
   "outputs": [
    {
     "name": "stdout",
     "output_type": "stream",
     "text": [
      "[[8, 5], [0, 3], [1], [2], [7]]\n"
     ]
    }
   ],
   "source": [
    "l = [((0, 0), 0), ((-1, 1), 8), ((1, 1), 1), ((0, 2), 3), ((-1, 3), 5), ((2, 2), 2), ((3, 3), 7)]\n",
    "\n",
    "def order_tree(l):\n",
    "    mp = {}\n",
    "    for (x, y), val in l:\n",
    "        if x not in mp:\n",
    "            mp[x] = [val]\n",
    "        else:\n",
    "            mp[x].append(val)\n",
    "    \n",
    "    ln = [(k,v) for k, v in mp.items()]\n",
    "    ln.sort(key=lambda x: x[0])\n",
    "    return [item[1] for item in ln]\n",
    "print order_tree(l)"
   ]
  },
  {
   "cell_type": "code",
   "execution_count": 197,
   "metadata": {},
   "outputs": [
    {
     "name": "stdout",
     "output_type": "stream",
     "text": [
      "((-1, 1, 1), 2)\n",
      "((-1, 5, 6), 8)\n",
      "((-1, 3, 7), 5)\n",
      "((-1, 5, 10), 9)\n"
     ]
    }
   ],
   "source": [
    "lst = [((0, 0), 0),\n",
    "     ((-1, 1), 2), \n",
    "     ((-2, 2), 3), \n",
    "     ((-3, 3), 4), \n",
    "     ((-2, 4), 7), \n",
    "     ((-3, 5), 10), \n",
    "     ((-1, 5), 8), \n",
    "     ((-1, 3), 5), \n",
    "     ((-2, 4), 6), \n",
    "     ((-3, 5), 11), \n",
    "     ((-1, 5), 9), \n",
    "     ((1, 1), 1)]\n",
    "lst = [((x,y,idx), val) for idx,((x,y),val) in enumerate(lst)]\n",
    "\n",
    "lst.sort(key= lambda x: x[0][2])\n",
    "for item in lst:\n",
    "    if item[1] in [2,5,8,9]:\n",
    "        print item\n"
   ]
  },
  {
   "cell_type": "code",
   "execution_count": null,
   "metadata": {},
   "outputs": [],
   "source": [
    "[ ((-1, 1, 1), 2), ((-2, 2, 2), 3), ((-3, 3, 3), 4), ((-2, 4, 4), 7), ((-3, 5, 5), 10), ((-1, 5, 6), 8), ((-1, 3, 7), 5), ((-2, 4, 8), 6), ((-3, 5, 9), 11), ((-1, 5, 10), 9), ((1, 1, 11), 1)]\n",
    "\n"
   ]
  }
 ],
 "metadata": {
  "kernelspec": {
   "display_name": "Python 2",
   "language": "python",
   "name": "python2"
  },
  "language_info": {
   "codemirror_mode": {
    "name": "ipython",
    "version": 2
   },
   "file_extension": ".py",
   "mimetype": "text/x-python",
   "name": "python",
   "nbconvert_exporter": "python",
   "pygments_lexer": "ipython2",
   "version": "2.7.14"
  },
  "toc": {
   "base_numbering": 1,
   "nav_menu": {},
   "number_sections": true,
   "sideBar": true,
   "skip_h1_title": false,
   "title_cell": "##",
   "title_sidebar": "Contents",
   "toc_cell": false,
   "toc_position": {},
   "toc_section_display": true,
   "toc_window_display": true
  }
 },
 "nbformat": 4,
 "nbformat_minor": 2
}
