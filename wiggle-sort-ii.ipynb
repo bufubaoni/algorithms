{
 "cells": [
  {
   "cell_type": "code",
   "execution_count": null,
   "metadata": {},
   "outputs": [],
   "source": [
    "class Solution(object):\n",
    "    def wiggleSort(self, nums):\n",
    "        \"\"\"\n",
    "        :type nums: List[int]\n",
    "        :rtype: None Do not return anything, modify nums in-place instead.\n",
    "        \"\"\"\n",
    "        pass"
   ]
  },
  {
   "cell_type": "code",
   "execution_count": 44,
   "metadata": {},
   "outputs": [
    {
     "name": "stdout",
     "output_type": "stream",
     "text": [
      "[3, 6, 2, 5, 1, 4]\n",
      "[6, 5, 4, 3, 2, 1]\n"
     ]
    }
   ],
   "source": [
    "nums = [1, 5, 1, 1, 6, 4]\n",
    "nums = [1, 3, 2, 2, 3, 1]\n",
    "nums = [1, 2, 3, 4, 5, 6]\n",
    "def wiggle(nums):\n",
    "    nums.sort(reverse=True)\n",
    "    c = [0,0,0,0,0,0]\n",
    "#     nums = [(idx, item)for idx, item in enumerate(nums)]\n",
    "#     print nums\n",
    "#     print nums[::2], nums[1::2] , nums[len(nums)/2:], nums[:len(nums)/2], \"sssss\"\n",
    "    c[::2], c[1::2] = nums[len(nums)/2:],  nums[:len(nums)/2]\n",
    "    print c\n",
    "    print nums\n",
    "wiggle(nums)\n",
    "        "
   ]
  },
  {
   "cell_type": "code",
   "execution_count": null,
   "metadata": {},
   "outputs": [],
   "source": [
    "[2, 3, 1, 3, 1, 2]"
   ]
  },
  {
   "cell_type": "code",
   "execution_count": 40,
   "metadata": {},
   "outputs": [
    {
     "name": "stdout",
     "output_type": "stream",
     "text": [
      "[(0, 3), (2, 2), (4, 1)]\n",
      "[(1, 3), (3, 2), (5, 1)]\n",
      "-------\n",
      "[(3, 2), (4, 1), (5, 1)] tiny\n",
      "[(0, 3), (1, 3), (2, 2)] lage\n"
     ]
    }
   ],
   "source": [
    "nums = [3, 3, 2, 2, 1, 1]\n",
    "nums = [(idx, item)for idx, item in enumerate(nums)]\n",
    "print nums[::2]\n",
    "print nums[1::2]\n",
    "print \"-------\"\n",
    "print nums[len(nums)/2:] , \"tiny\"\n",
    "print nums[:len(nums)/2] , \"lage\"\n"
   ]
  },
  {
   "cell_type": "code",
   "execution_count": null,
   "metadata": {},
   "outputs": [],
   "source": [
    "[]"
   ]
  }
 ],
 "metadata": {
  "kernelspec": {
   "display_name": "Python 2",
   "language": "python",
   "name": "python2"
  },
  "language_info": {
   "codemirror_mode": {
    "name": "ipython",
    "version": 2
   },
   "file_extension": ".py",
   "mimetype": "text/x-python",
   "name": "python",
   "nbconvert_exporter": "python",
   "pygments_lexer": "ipython2",
   "version": "2.7.14"
  },
  "toc": {
   "base_numbering": 1,
   "nav_menu": {},
   "number_sections": true,
   "sideBar": true,
   "skip_h1_title": false,
   "title_cell": "##",
   "title_sidebar": "Contents",
   "toc_cell": false,
   "toc_position": {},
   "toc_section_display": true,
   "toc_window_display": true
  }
 },
 "nbformat": 4,
 "nbformat_minor": 2
}
