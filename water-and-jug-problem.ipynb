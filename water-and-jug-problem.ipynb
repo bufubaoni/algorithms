{
 "cells": [
  {
   "cell_type": "code",
   "execution_count": 14,
   "metadata": {},
   "outputs": [
    {
     "name": "stdout",
     "output_type": "stream",
     "text": [
      "True\n"
     ]
    }
   ],
   "source": [
    "nums = [3, 5, 2]\n",
    "\n",
    "result = 4\n",
    "\n",
    "\n",
    "def jug(nums, result, numb):\n",
    "    if result == 0:\n",
    "        return True\n",
    "    elif result < 0:\n",
    "        return False\n",
    "    \n",
    "    result = result - numb\n",
    "    return jug(nums,result, nums[0]) or jug(nums, result, nums[1]) or jug(nums, result, nums[2])\n",
    "print jug(nums, result, 0)\n",
    "    \n",
    "    "
   ]
  },
  {
   "cell_type": "code",
   "execution_count": null,
   "metadata": {},
   "outputs": [],
   "source": []
  },
  {
   "cell_type": "code",
   "execution_count": 69,
   "metadata": {},
   "outputs": [
    {
     "name": "stdout",
     "output_type": "stream",
     "text": [
      "(3, 5, 4) True\n",
      "[3, 5, 1]\n",
      "(0, 0, 1) False\n",
      "(4, 5, 6) True\n",
      "[4, 5, 1]\n",
      "(34, 5, 6) True\n",
      "[34, 5, 1]\n",
      "(1, 1, 12) False\n",
      "(13, 11, 1) True\n",
      "[13, 11, 1]\n",
      "(2, 6, 5) False\n",
      "[2, 6, 2]\n"
     ]
    }
   ],
   "source": [
    "import fractions\n",
    "tests = [\n",
    "    ((3,5,4),True),\n",
    "    ((0,0,1),False),\n",
    "    ((4,5,6), True),\n",
    "    ((34,5,6), True),\n",
    "    ((1,1,12), False),\n",
    "    ((13,11,1), True),\n",
    "    ((2,6,5), False)\n",
    "    \n",
    "]\n",
    "class Solution(object):\n",
    "    def canMeasureWater(self, x, y, z):\n",
    "        \"\"\"\n",
    "        :type x: int\n",
    "        :type y: int\n",
    "        :type z: int\n",
    "        :rtype: bool\n",
    "        \"\"\"\n",
    "        if x + y < z:\n",
    "            return False\n",
    "\n",
    "        nums = [x, y , fractions.gcd(x, y)]\n",
    "        nums = [item for item in nums if item > 0]\n",
    "        result = z\n",
    "        print nums\n",
    "        return self.pullWorter(nums, result, 0)\n",
    "    \n",
    "\n",
    "    def pullWorter(self, nums, result, numb):\n",
    "        if result == 0:\n",
    "            return True\n",
    "        elif result < 0:\n",
    "            return False\n",
    "        result = result - numb\n",
    "        check = False\n",
    "        for num in nums:\n",
    "            check = check or self.pullWorter(nums,result, num)\n",
    "        return check\n",
    "sl = Solution()\n",
    "for (x, y , z), result in tests:\n",
    "    print (x, y , z), result\n",
    "    assert sl.canMeasureWater(x,y,z) == result, ((x, y , z), result)\n",
    "    "
   ]
  },
  {
   "cell_type": "code",
   "execution_count": 61,
   "metadata": {},
   "outputs": [
    {
     "name": "stdout",
     "output_type": "stream",
     "text": [
      "True\n",
      "2\n"
     ]
    }
   ],
   "source": [
    "x,y,z = 3,5,4\n",
    "print y>x\n",
    "print (y - x) if (y > x) else  x % y"
   ]
  },
  {
   "cell_type": "code",
   "execution_count": 70,
   "metadata": {},
   "outputs": [
    {
     "name": "stdout",
     "output_type": "stream",
     "text": [
      "(3, 5, 4) True\n",
      "(0, 0, 1) False\n",
      "(4, 5, 6) True\n",
      "(34, 5, 6) True\n",
      "(1, 1, 12) False\n",
      "(13, 11, 1) True\n",
      "(2, 6, 5) False\n"
     ]
    }
   ],
   "source": [
    "import fractions\n",
    "tests = [\n",
    "    ((3,5,4),True),\n",
    "    ((0,0,1),False),\n",
    "    ((4,5,6), True),\n",
    "    ((34,5,6), True),\n",
    "    ((1,1,12), False),\n",
    "    ((13,11,1), True),\n",
    "    ((2,6,5), False)\n",
    "    \n",
    "]\n",
    "class Solution(object):\n",
    "    def canMeasureWater(self, x, y, z):\n",
    "        \"\"\"\n",
    "        :type x: int\n",
    "        :type y: int\n",
    "        :type z: int\n",
    "        :rtype: bool\n",
    "        \"\"\"\n",
    "        if x + y < z:\n",
    "            return False\n",
    "\n",
    "        gcd = fractions.gcd(x, y)\n",
    "        \n",
    "        if gcd == 0:\n",
    "            if z == 0:\n",
    "                return True\n",
    "            return False\n",
    "        return z % gcd == 0\n",
    "\n",
    "    def pullWorter(self, nums, result, numb):\n",
    "        if result == 0:\n",
    "            return True\n",
    "        elif result < 0:\n",
    "            return False\n",
    "        result = result - numb\n",
    "        check = False\n",
    "        for num in nums:\n",
    "            check = check or self.pullWorter(nums,result, num)\n",
    "        return check\n",
    "sl = Solution()\n",
    "for (x, y , z), result in tests:\n",
    "    print (x, y , z), result\n",
    "    assert sl.canMeasureWater(x,y,z) == result, ((x, y , z), result)\n",
    "    "
   ]
  },
  {
   "cell_type": "code",
   "execution_count": null,
   "metadata": {},
   "outputs": [],
   "source": []
  }
 ],
 "metadata": {
  "kernelspec": {
   "display_name": "Python 2",
   "language": "python",
   "name": "python2"
  },
  "language_info": {
   "codemirror_mode": {
    "name": "ipython",
    "version": 2
   },
   "file_extension": ".py",
   "mimetype": "text/x-python",
   "name": "python",
   "nbconvert_exporter": "python",
   "pygments_lexer": "ipython2",
   "version": "2.7.14"
  },
  "toc": {
   "base_numbering": 1,
   "nav_menu": {},
   "number_sections": true,
   "sideBar": true,
   "skip_h1_title": false,
   "title_cell": "##",
   "title_sidebar": "Contents",
   "toc_cell": false,
   "toc_position": {},
   "toc_section_display": true,
   "toc_window_display": true
  }
 },
 "nbformat": 4,
 "nbformat_minor": 2
}
