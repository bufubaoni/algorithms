{
 "cells": [
  {
   "cell_type": "code",
   "execution_count": 71,
   "metadata": {},
   "outputs": [
    {
     "name": "stdout",
     "output_type": "stream",
     "text": [
      "PAYPALISHIRING\n"
     ]
    }
   ],
   "source": [
    "# \"LEETCODEISHIRING\"  numRows = 3 => \n",
    "\n",
    "# ==>\n",
    "# L   C   I   R\n",
    "# E T O E S I I G\n",
    "# E   D   H   N\n",
    "\n",
    "s = \"PAYPALISHIRING\"\n",
    "numRows = 1\n",
    "\n",
    "def convert(s, numRows):\n",
    "    \"\"\"\n",
    "    :type s: str\n",
    "    :type numRows: int\n",
    "    :rtype: str\n",
    "    \"\"\"\n",
    "#     for num in range(0, numrows):\n",
    "    list_s = []\n",
    "    cour = 0\n",
    "    if numRows == 1:\n",
    "        return s\n",
    "    for idx, item in enumerate(s):\n",
    "        \n",
    "        if idx % (numRows-1) == 0:\n",
    "            list_s.append(s[cour + idx:cour + idx + numRows])\n",
    "            cour = cour + numRows - 1\n",
    "        else:\n",
    "            pre_blank = []\n",
    "            after_blank = []\n",
    "            # 添加空格\n",
    "            for item in range(numRows - 1 - (idx % (numRows - 1))):\n",
    "                pre_blank.append(\" \")\n",
    "            for item in range(numRows - len(pre_blank) - 1):\n",
    "                after_blank.append(\" \")\n",
    "            str_pre_blank = \"\".join(pre_blank)\n",
    "            str_after_blank = \"\".join(after_blank)\n",
    "            \n",
    "            list_s.append(str_pre_blank + s[cour + idx:cour + idx + 1] + str_after_blank)\n",
    "            \n",
    "            cour = cour + 1 - 1\n",
    "        if cour + idx +1>= len(s):\n",
    "            break\n",
    "    print list_s\n",
    "    r_str = []\n",
    "    for idx in range(numRows):\n",
    "        col = []\n",
    "        for item in list_s:\n",
    "            if len(item) > idx and item[idx] != ' ' :\n",
    "                col.append(item[idx])\n",
    "        r_str.append(''.join(col))\n",
    "        col = []\n",
    "    \n",
    "    return ''.join(r_str)\n",
    "\n",
    "print convert(s, numRows)"
   ]
  },
  {
   "cell_type": "code",
   "execution_count": 82,
   "metadata": {},
   "outputs": [
    {
     "name": "stdout",
     "output_type": "stream",
     "text": [
      "['', '', '', '']\n",
      "['LDR', 'EOEII', 'ECIHN', 'TSG']\n",
      "LDREOEIIECIHNTSG\n"
     ]
    }
   ],
   "source": [
    "numRows = 4\n",
    "s = \"LEETCODEISHIRING\"\n",
    "\n",
    "ans = ['' for _ in range(numRows)]\n",
    "print ans\n",
    "pos = 0\n",
    "for i in s:\n",
    "    if pos == 0:\n",
    "        z = 1\n",
    "    elif pos == numRows-1:\n",
    "        z = -1\n",
    "    ans[pos] += i\n",
    "    pos += z\n",
    "    \n",
    "print ans\n",
    "print ''.join(ans)"
   ]
  },
  {
   "cell_type": "code",
   "execution_count": null,
   "metadata": {},
   "outputs": [],
   "source": []
  }
 ],
 "metadata": {
  "kernelspec": {
   "display_name": "Python 2",
   "language": "python",
   "name": "python2"
  },
  "language_info": {
   "codemirror_mode": {
    "name": "ipython",
    "version": 2
   },
   "file_extension": ".py",
   "mimetype": "text/x-python",
   "name": "python",
   "nbconvert_exporter": "python",
   "pygments_lexer": "ipython2",
   "version": "2.7.14"
  },
  "toc": {
   "base_numbering": 1,
   "nav_menu": {},
   "number_sections": true,
   "sideBar": true,
   "skip_h1_title": false,
   "title_cell": "##",
   "title_sidebar": "Contents",
   "toc_cell": false,
   "toc_position": {},
   "toc_section_display": true,
   "toc_window_display": true
  }
 },
 "nbformat": 4,
 "nbformat_minor": 2
}
