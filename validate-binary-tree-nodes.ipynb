{
 "cells": [
  {
   "cell_type": "code",
   "execution_count": 21,
   "metadata": {},
   "outputs": [
    {
     "name": "stdout",
     "output_type": "stream",
     "text": [
      "[0, 1, 1, 1]\n",
      "[0, 1, 1, 1]\n",
      "[0, 1, 1, 2]\n",
      "[1, 1]\n",
      "[0, 1, 1, 0, 1, 1]\n",
      "[1, 1, 1, 0]\n",
      "[1, 0]\n"
     ]
    }
   ],
   "source": [
    "tests=[\n",
    "    ((4,[1,-1,3,-1], [2,-1,-1,-1]),True),\n",
    "    ((4, [1,-1,3,-1], [2,-1,-1,-1]), True),\n",
    "    ((4, [1,-1,3,-1], [2,3,-1,-1]), False),\n",
    "    ((2, [1,0], [-1,-1]), False),\n",
    "    ((6, [1,-1,-1,4,-1,-1], [2,-1,-1,5,-1,-1]), False),\n",
    "    ((4, [1,2,0,-1] ,[-1,-1,-1,-1]), False),\n",
    "     ((2,[-1,0], [-1,-1]), True)\n",
    "    \n",
    "]\n",
    "from collections import Counter\n",
    "class Solution(object):\n",
    "    def validateBinaryTreeNodes(self, n, leftChild, rightChild):\n",
    "        \"\"\"\n",
    "        :type n: int\n",
    "        :type leftChild: List[int]\n",
    "        :type rightChild: List[int]\n",
    "        :rtype: bool\n",
    "        \"\"\"\n",
    "        int_counts = [0]*n\n",
    "        for item in leftChild:\n",
    "            if item != -1:\n",
    "                int_counts[item] +=1\n",
    "        for item in rightChild:\n",
    "            if item != -1:\n",
    "                int_counts[item] +=1\n",
    "        print int_counts\n",
    "        if int_counts[-1] == 0 and n !=2:\n",
    "            return False\n",
    "        int_0 = 0\n",
    "        for item in int_counts:\n",
    "            if item == 0:\n",
    "                int_0 += 1\n",
    "            if int_0 > 1:\n",
    "                return False\n",
    "            if item > 1:\n",
    "                return False\n",
    "        return True and int_0\n",
    "\n",
    "\n",
    "sl = Solution()\n",
    "for (n, leftChild, rightChild), res in tests:\n",
    "    result = sl.validateBinaryTreeNodes(n, leftChild, rightChild)\n",
    "    assert res == result, (n, leftChild, rightChild)"
   ]
  },
  {
   "cell_type": "code",
   "execution_count": 11,
   "metadata": {},
   "outputs": [
    {
     "name": "stdout",
     "output_type": "stream",
     "text": [
      "[0, 0, 0, 0, 0, 0, 0, 0, 0, 0, 0, 0]\n"
     ]
    }
   ],
   "source": [
    "print [0]*12"
   ]
  },
  {
   "cell_type": "code",
   "execution_count": null,
   "metadata": {},
   "outputs": [],
   "source": []
  }
 ],
 "metadata": {
  "kernelspec": {
   "display_name": "Python 2",
   "language": "python",
   "name": "python2"
  },
  "language_info": {
   "codemirror_mode": {
    "name": "ipython",
    "version": 2
   },
   "file_extension": ".py",
   "mimetype": "text/x-python",
   "name": "python",
   "nbconvert_exporter": "python",
   "pygments_lexer": "ipython2",
   "version": "2.7.14"
  },
  "toc": {
   "base_numbering": 1,
   "nav_menu": {},
   "number_sections": true,
   "sideBar": true,
   "skip_h1_title": false,
   "title_cell": "##",
   "title_sidebar": "Contents",
   "toc_cell": false,
   "toc_position": {},
   "toc_section_display": true,
   "toc_window_display": true
  }
 },
 "nbformat": 4,
 "nbformat_minor": 2
}
