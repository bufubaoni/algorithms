{
 "cells": [
  {
   "cell_type": "code",
   "execution_count": null,
   "metadata": {},
   "outputs": [],
   "source": [
    "class Solution(object):\n",
    "    def widthOfBinaryTree(self, root):\n",
    "        \"\"\"\n",
    "        :type root: TreeNode\n",
    "        :rtype: int\n",
    "        \"\"\"\n",
    "        if not root:\n",
    "            return 0\n",
    "        bfs = [(root,(0, 0))]\n",
    "        mx = 0\n",
    "        while bfs:\n",
    "            lv = []\n",
    "            for node, (x, y) in bfs:\n",
    "                if node.left:\n",
    "                    lv.append((node.left, (2*x, y+1)))\n",
    "                if node.right:\n",
    "                    lv.append((node.right, (2*x+1, y+1)))\n",
    "            if len(lv) >= 2:\n",
    "                lv.sort(key=lambda x:x[1][0])                \n",
    "                mx = max(mx, lv[-1][1][0]-lv[0][1][0])\n",
    "            bfs = lv\n",
    "        return mx + 1"
   ]
  }
 ],
 "metadata": {
  "kernelspec": {
   "display_name": "Python 2",
   "language": "python",
   "name": "python2"
  },
  "language_info": {
   "codemirror_mode": {
    "name": "ipython",
    "version": 2
   },
   "file_extension": ".py",
   "mimetype": "text/x-python",
   "name": "python",
   "nbconvert_exporter": "python",
   "pygments_lexer": "ipython2",
   "version": "2.7.14"
  },
  "toc": {
   "base_numbering": 1,
   "nav_menu": {},
   "number_sections": true,
   "sideBar": true,
   "skip_h1_title": false,
   "title_cell": "##",
   "title_sidebar": "Contents",
   "toc_cell": false,
   "toc_position": {},
   "toc_section_display": true,
   "toc_window_display": true
  }
 },
 "nbformat": 4,
 "nbformat_minor": 2
}
