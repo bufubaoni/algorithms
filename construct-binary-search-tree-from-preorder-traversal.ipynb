{
 "cells": [
  {
   "cell_type": "code",
   "execution_count": 11,
   "metadata": {},
   "outputs": [
    {
     "name": "stdout",
     "output_type": "stream",
     "text": [
      "<__main__.TreeNode object at 0x10f02d4d0>\n"
     ]
    }
   ],
   "source": [
    "\n",
    "# Definition for a binary tree node.\n",
    "\n",
    "class TreeNode(object):\n",
    "    def __init__(self, x):\n",
    "        self.val = x\n",
    "        self.left = None\n",
    "        self.right = None\n",
    "\n",
    "class Solution(object):\n",
    "    def bstFromPreorder(self, preorder):\n",
    "        \"\"\"\n",
    "        :type preorder: List[int]\n",
    "        :rtype: TreeNode\n",
    "        \"\"\"\n",
    "        if not preorder:\n",
    "            return \n",
    "        if len(preorder) == 1:\n",
    "            return TreeNode(preorder[0])\n",
    "        nd = TreeNode(preorder[0])\n",
    "        idx = 0\n",
    "        for i in range(1, len(preorder)):\n",
    "            if preorder[i] > nd.val:\n",
    "                idx = i\n",
    "                break\n",
    "        if idx>0:\n",
    "            nd.left = self.bstFromPreorder(preorder[1:idx])\n",
    "            nd.right = self.bstFromPreorder(preorder[idx:])\n",
    "        else:\n",
    "            nd.left = self.bstFromPreorder(preorder[1:])\n",
    "        return nd\n",
    "\n",
    "        \n",
    "\n",
    "sl = Solution()\n",
    "print sl.bstFromPreorder([4,2])\n"
   ]
  },
  {
   "cell_type": "code",
   "execution_count": null,
   "metadata": {},
   "outputs": [],
   "source": []
  },
  {
   "cell_type": "code",
   "execution_count": null,
   "metadata": {},
   "outputs": [],
   "source": []
  }
 ],
 "metadata": {
  "kernelspec": {
   "display_name": "Python 2",
   "language": "python",
   "name": "python2"
  },
  "language_info": {
   "codemirror_mode": {
    "name": "ipython",
    "version": 2
   },
   "file_extension": ".py",
   "mimetype": "text/x-python",
   "name": "python",
   "nbconvert_exporter": "python",
   "pygments_lexer": "ipython2",
   "version": "2.7.14"
  },
  "toc": {
   "base_numbering": 1,
   "nav_menu": {},
   "number_sections": true,
   "sideBar": true,
   "skip_h1_title": false,
   "title_cell": "##",
   "title_sidebar": "Contents",
   "toc_cell": false,
   "toc_position": {},
   "toc_section_display": true,
   "toc_window_display": true
  }
 },
 "nbformat": 4,
 "nbformat_minor": 2
}
