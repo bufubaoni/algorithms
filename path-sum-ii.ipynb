{
 "cells": [
  {
   "cell_type": "code",
   "execution_count": null,
   "metadata": {},
   "outputs": [],
   "source": [
    "class Solution(object):\n",
    "    def pathSum(self, root, res):\n",
    "        \"\"\"\n",
    "        :type root: TreeNode\n",
    "        :type sum: int\n",
    "        :rtype: List[List[int]]\n",
    "        \"\"\"\n",
    "        if not root:\n",
    "            return []\n",
    "        bp = [(root, [root.val])]\n",
    "        path = []\n",
    "        while bp:\n",
    "            lv = []\n",
    "            \n",
    "            for i in range(len(bp)):\n",
    "                if bp[i][0].left:\n",
    "                    lv.append((bp[i][0].left, bp[i][1] +[bp[i][0].left.val] ))\n",
    "                if bp[i][0].right:\n",
    "                    lv.append((bp[i][0].right, bp[i][1] +[bp[i][0].right.val]))\n",
    "                if sum(bp[i][1]) == res and not bp[i][0].left and not bp[i][0].right:\n",
    "                    path.append(bp[i][1])\n",
    "                    \n",
    "            bp = lv\n",
    "        \n",
    "        return path"
   ]
  }
 ],
 "metadata": {
  "kernelspec": {
   "display_name": "Python 2",
   "language": "python",
   "name": "python2"
  },
  "language_info": {
   "codemirror_mode": {
    "name": "ipython",
    "version": 2
   },
   "file_extension": ".py",
   "mimetype": "text/x-python",
   "name": "python",
   "nbconvert_exporter": "python",
   "pygments_lexer": "ipython2",
   "version": "2.7.14"
  },
  "toc": {
   "base_numbering": 1,
   "nav_menu": {},
   "number_sections": true,
   "sideBar": true,
   "skip_h1_title": false,
   "title_cell": "##",
   "title_sidebar": "Contents",
   "toc_cell": false,
   "toc_position": {},
   "toc_section_display": true,
   "toc_window_display": true
  }
 },
 "nbformat": 4,
 "nbformat_minor": 2
}
