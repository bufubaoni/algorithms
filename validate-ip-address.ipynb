{
 "cells": [
  {
   "cell_type": "code",
   "execution_count": 38,
   "metadata": {},
   "outputs": [],
   "source": [
    "tests = [(\"172.16.254.1\",\"IPv4\"),\n",
    "(\"2001:0db8:85a3:0:0:8A2E:0370:7334\", \"IPv6\"),\n",
    "(\"256.256.256.256\", \"Neither\"),\n",
    "(\"2001:0db8:85a3:0000:0:8A2E:0370:733a\", \"IPv6\"),\n",
    "         (\"01.01.01.01\",\"Neither\"),\n",
    "         (\"2001:0db8:85a3:0:0:8A2E:0370:73341\",\"Neither\"),\n",
    "         (\"2001:0db8:85a3:000:0:8A2E:0370:7334\", \"IPv6\")\n",
    "        ]\n",
    "\n",
    "class Solution(object):\n",
    "    def validIPAddress(self, IP):\n",
    "        \"\"\"\n",
    "        :type IP: str\n",
    "        :rtype: str\n",
    "        \"\"\"\n",
    "        ip_cells = IP.split('.')\n",
    "\n",
    "        if len(ip_cells) == 4:\n",
    "            res = True\n",
    "            for cell in ip_cells:\n",
    "                res = res and self.checkIPv4Cell(cell)\n",
    "            if res:\n",
    "                return \"IPv4\"\n",
    "        ip_cells = IP.split(':')    \n",
    "        if len(ip_cells) == 8:\n",
    "            res = True\n",
    "            for cell in ip_cells:\n",
    "                res = res and self.checkIPv6Cell(cell)\n",
    "            if res:\n",
    "                return \"IPv6\"\n",
    "        return \"Neither\"\n",
    "            \n",
    "    \n",
    "    def checkIPv4Cell(self, cell):\n",
    "        if not cell:\n",
    "            return False\n",
    "        if len(cell)>1 and cell.startswith(\"0\"):\n",
    "            return False\n",
    "        if 255<int(cell) or int(cell)<0:\n",
    "            return False\n",
    "        return True\n",
    "    \n",
    "    def checkIPv6Cell(self, cell):\n",
    "        if not cell:\n",
    "            return False\n",
    "        if len(cell)>4:\n",
    "            return False\n",
    "        if len(cell)>1 and cell[0:2] == \"00\":\n",
    "            if cell not in [\"0000\" , \"00\", \"000\"]:\n",
    "                return False\n",
    "\n",
    "        hex_table = \"0123456789abcdefABCDEF\"\n",
    "        for item in cell:\n",
    "            if item not in hex_table:\n",
    "                return False\n",
    "        return True\n",
    "sl = Solution()\n",
    "for ip, res in tests:\n",
    "    result = sl.validIPAddress(ip)\n",
    "    assert result==res, (ip, res, result)"
   ]
  },
  {
   "cell_type": "code",
   "execution_count": 2,
   "metadata": {},
   "outputs": [
    {
     "data": {
      "text/plain": [
       "['asdf']"
      ]
     },
     "execution_count": 2,
     "metadata": {},
     "output_type": "execute_result"
    }
   ],
   "source": [
    "\"asdf\".split(',')"
   ]
  },
  {
   "cell_type": "code",
   "execution_count": 7,
   "metadata": {},
   "outputs": [
    {
     "name": "stdout",
     "output_type": "stream",
     "text": [
      "0x64\n"
     ]
    }
   ],
   "source": [
    "print hex(100)"
   ]
  },
  {
   "cell_type": "code",
   "execution_count": null,
   "metadata": {},
   "outputs": [],
   "source": []
  }
 ],
 "metadata": {
  "kernelspec": {
   "display_name": "Python 2",
   "language": "python",
   "name": "python2"
  },
  "language_info": {
   "codemirror_mode": {
    "name": "ipython",
    "version": 2
   },
   "file_extension": ".py",
   "mimetype": "text/x-python",
   "name": "python",
   "nbconvert_exporter": "python",
   "pygments_lexer": "ipython2",
   "version": "2.7.14"
  },
  "toc": {
   "base_numbering": 1,
   "nav_menu": {},
   "number_sections": true,
   "sideBar": true,
   "skip_h1_title": false,
   "title_cell": "##",
   "title_sidebar": "Contents",
   "toc_cell": false,
   "toc_position": {},
   "toc_section_display": true,
   "toc_window_display": true
  }
 },
 "nbformat": 4,
 "nbformat_minor": 2
}
