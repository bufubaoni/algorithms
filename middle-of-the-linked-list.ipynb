{
 "cells": [
  {
   "cell_type": "code",
   "execution_count": 26,
   "metadata": {},
   "outputs": [
    {
     "name": "stdout",
     "output_type": "stream",
     "text": [
      "[(3, <__main__.ListNode object at 0x10c424690>), (4, <__main__.ListNode object at 0x10c4246d0>), (5, <__main__.ListNode object at 0x10c424710>)]\n"
     ]
    },
    {
     "ename": "AssertionError",
     "evalue": "(<__main__.ListNode object at 0x10c4245d0>, [(3, <__main__.ListNode object at 0x10c424690>), (4, <__main__.ListNode object at 0x10c4246d0>), (5, <__main__.ListNode object at 0x10c424710>)], [3, 4, 5])",
     "output_type": "error",
     "traceback": [
      "\u001b[0;31m\u001b[0m",
      "\u001b[0;31mAssertionError\u001b[0mTraceback (most recent call last)",
      "\u001b[0;32m<ipython-input-26-cdbeb794fe93>\u001b[0m in \u001b[0;36m<module>\u001b[0;34m()\u001b[0m\n\u001b[1;32m     37\u001b[0m     \u001b[0mipt\u001b[0m \u001b[0;34m=\u001b[0m \u001b[0mbuild_Ln\u001b[0m\u001b[0;34m(\u001b[0m\u001b[0mipt\u001b[0m\u001b[0;34m)\u001b[0m\u001b[0;34m\u001b[0m\u001b[0m\n\u001b[1;32m     38\u001b[0m     \u001b[0mopt\u001b[0m \u001b[0;34m=\u001b[0m \u001b[0msl\u001b[0m\u001b[0;34m.\u001b[0m\u001b[0mmiddleNode\u001b[0m\u001b[0;34m(\u001b[0m\u001b[0mipt\u001b[0m\u001b[0;34m)\u001b[0m\u001b[0;34m\u001b[0m\u001b[0m\n\u001b[0;32m---> 39\u001b[0;31m     \u001b[0;32massert\u001b[0m \u001b[0mopt\u001b[0m \u001b[0;34m==\u001b[0m \u001b[0mres\u001b[0m\u001b[0;34m,\u001b[0m \u001b[0;34m(\u001b[0m\u001b[0mipt\u001b[0m\u001b[0;34m,\u001b[0m \u001b[0mopt\u001b[0m\u001b[0;34m,\u001b[0m \u001b[0mres\u001b[0m\u001b[0;34m)\u001b[0m\u001b[0;34m\u001b[0m\u001b[0m\n\u001b[0m",
      "\u001b[0;31mAssertionError\u001b[0m: (<__main__.ListNode object at 0x10c4245d0>, [(3, <__main__.ListNode object at 0x10c424690>), (4, <__main__.ListNode object at 0x10c4246d0>), (5, <__main__.ListNode object at 0x10c424710>)], [3, 4, 5])"
     ]
    }
   ],
   "source": [
    "tests = [\n",
    "    ([1,2,3,4,5], [3,4,5]),\n",
    "    ([1,2,3,4,5,6], [4,5,6])\n",
    "]\n",
    "class ListNode(object):\n",
    "    def __init__(self, x):\n",
    "        self.val = x\n",
    "        self.next = None\n",
    "def build_Ln(nums):\n",
    "    \n",
    "    stack = []\n",
    "    for idx in range(len(nums)):\n",
    "        cu = ListNode(nums[idx])\n",
    "        if stack:\n",
    "            stack[-1].next = cu\n",
    "        stack.append(cu)\n",
    "    return stack[0]\n",
    "        \n",
    "class Solution(object):\n",
    "    def middleNode(self, head):\n",
    "        if not head:\n",
    "            return []\n",
    "        lst = self.trival(head, [])\n",
    "        return lst[len(lst)/2:][0][0]\n",
    "        \n",
    "    def trival(self, head, lst):\n",
    "        if not head:\n",
    "            return \n",
    "        lst.append(head)\n",
    "        if head.next:\n",
    "            self.trival(head.next, lst)\n",
    "        return lst\n",
    "            \n",
    "sl = Solution()\n",
    "for ipt,res in tests:\n",
    "    ipt = build_Ln(ipt)\n",
    "    opt = sl.middleNode(ipt)\n",
    "    assert opt == res, (ipt, opt, res)"
   ]
  },
  {
   "cell_type": "code",
   "execution_count": null,
   "metadata": {},
   "outputs": [],
   "source": [
    "class Solution(object):\n",
    "    def lowestCommonAncestor(self, root, p, q):\n",
    "        \"\"\"\n",
    "        :type root: TreeNode\n",
    "        :type p: TreeNode\n",
    "        :type q: TreeNode\n",
    "        :rtype: TreeNode\n",
    "        \"\"\"\n",
    "        if root in (None, p, q):\n",
    "            return root\n",
    "        \n",
    "        L = self.lowestCommonAncestor(root.left, p, q)\n",
    "        R = self.lowestCommonAncestor(root.right, p, q)\n",
    "        \n",
    "        res = root\n",
    "        if not L:\n",
    "            res = R\n",
    "        if not R:\n",
    "            res = L\n",
    "\n",
    "        return res"
   ]
  }
 ],
 "metadata": {
  "kernelspec": {
   "display_name": "Python 2",
   "language": "python",
   "name": "python2"
  },
  "language_info": {
   "codemirror_mode": {
    "name": "ipython",
    "version": 2
   },
   "file_extension": ".py",
   "mimetype": "text/x-python",
   "name": "python",
   "nbconvert_exporter": "python",
   "pygments_lexer": "ipython2",
   "version": "2.7.14"
  },
  "toc": {
   "base_numbering": 1,
   "nav_menu": {},
   "number_sections": true,
   "sideBar": true,
   "skip_h1_title": false,
   "title_cell": "##",
   "title_sidebar": "Contents",
   "toc_cell": false,
   "toc_position": {},
   "toc_section_display": true,
   "toc_window_display": true
  }
 },
 "nbformat": 4,
 "nbformat_minor": 2
}
