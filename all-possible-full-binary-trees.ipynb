{
 "cells": [
  {
   "cell_type": "code",
   "execution_count": null,
   "metadata": {},
   "outputs": [],
   "source": [
    "class Solution(object):\n",
    "    def allPossibleFBT(self, N):\n",
    "        \"\"\"\n",
    "        :type N: int\n",
    "        :rtype: List[TreeNode]\n",
    "        \"\"\"\n",
    "        if N == 1:\n",
    "            return [TreeNode(0)]\n",
    "        if N%2 == 0:\n",
    "            return []\n",
    "        \n",
    "        res =[]\n",
    "\n",
    "        left = 1\n",
    "        right = N - 2\n",
    "\n",
    "        while right>0:\n",
    "            lefts = self.allPossibleFBT(left)\n",
    "            rights = self.allPossibleFBT(right)\n",
    "            for i in range(len(lefts)):\n",
    "                for j in range(len(rights)):\n",
    "                    root = TreeNode(0)\n",
    "                    root.left = lefts[i]\n",
    "                    root.right = rights[j]\n",
    "                    res.append(root)\n",
    "            left += 2\n",
    "            right -= 2\n",
    "        return res"
   ]
  }
 ],
 "metadata": {
  "kernelspec": {
   "display_name": "Python 2",
   "language": "python",
   "name": "python2"
  },
  "language_info": {
   "codemirror_mode": {
    "name": "ipython",
    "version": 2
   },
   "file_extension": ".py",
   "mimetype": "text/x-python",
   "name": "python",
   "nbconvert_exporter": "python",
   "pygments_lexer": "ipython2",
   "version": "2.7.14"
  },
  "toc": {
   "base_numbering": 1,
   "nav_menu": {},
   "number_sections": true,
   "sideBar": true,
   "skip_h1_title": false,
   "title_cell": "##",
   "title_sidebar": "Contents",
   "toc_cell": false,
   "toc_position": {},
   "toc_section_display": true,
   "toc_window_display": true
  }
 },
 "nbformat": 4,
 "nbformat_minor": 2
}
