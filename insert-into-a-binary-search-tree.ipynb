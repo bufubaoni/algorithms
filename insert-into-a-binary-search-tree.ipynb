{
 "cells": [
  {
   "cell_type": "code",
   "execution_count": null,
   "metadata": {},
   "outputs": [],
   "source": [
    "class Solution(object):\n",
    "    def longestZigZag(self, root):\n",
    "        \"\"\"\n",
    "        :type root: TreeNode\n",
    "        :rtype: int\n",
    "        \"\"\"\n",
    "        k = [0]\n",
    "        tr = self.trival(root, True, k)\n",
    "        return k[0]\n",
    "\n",
    "    def trival(self, root, is_left, k):\n",
    "        if not root:\n",
    "            return 0\n",
    "        l = self.trival(root.left, True, k)\n",
    "        r = self.trival(root.right, False, k)\n",
    "        k[0] = max(l, r, k[0])\n",
    "        if is_left:\n",
    "            return r + 1\n",
    "        else:\n",
    "            return l + 1"
   ]
  },
  {
   "cell_type": "markdown",
   "metadata": {},
   "source": [
    "          1\n",
    "         / \\\n",
    "        1.  1\n",
    "         \\\n",
    "          1\n",
    "         / \\\n",
    "        1.  1\n",
    "         \\\n",
    "          1 0"
   ]
  }
 ],
 "metadata": {
  "kernelspec": {
   "display_name": "Python 2",
   "language": "python",
   "name": "python2"
  },
  "language_info": {
   "codemirror_mode": {
    "name": "ipython",
    "version": 2
   },
   "file_extension": ".py",
   "mimetype": "text/x-python",
   "name": "python",
   "nbconvert_exporter": "python",
   "pygments_lexer": "ipython2",
   "version": "2.7.14"
  },
  "toc": {
   "base_numbering": 1,
   "nav_menu": {},
   "number_sections": true,
   "sideBar": true,
   "skip_h1_title": false,
   "title_cell": "##",
   "title_sidebar": "Contents",
   "toc_cell": false,
   "toc_position": {},
   "toc_section_display": true,
   "toc_window_display": true
  }
 },
 "nbformat": 4,
 "nbformat_minor": 2
}
