{
 "cells": [
  {
   "cell_type": "code",
   "execution_count": 5,
   "metadata": {},
   "outputs": [
    {
     "name": "stdout",
     "output_type": "stream",
     "text": [
      "[1, 2, 3]\n",
      "[]\n",
      "[2, 3]\n",
      "[]\n",
      "[3]\n",
      "[]\n",
      "[]\n",
      "[2]\n",
      "[]\n",
      "[]\n",
      "[]\n",
      "[1]\n",
      "[]\n",
      "[]\n",
      "[3]\n",
      "[]\n",
      "[]\n",
      "[1, 2]\n",
      "[]\n",
      "[2]\n",
      "[]\n",
      "[]\n",
      "[1]\n",
      "[]\n",
      "[]\n",
      "[]\n",
      "[]\n",
      "[]\n"
     ]
    },
    {
     "ename": "AssertionError",
     "evalue": "(3, [<__main__.TreeNode object at 0x10a9d9c10>, <__main__.TreeNode object at 0x10a9d9c50>, <__main__.TreeNode object at 0x10a9d9b90>, <__main__.TreeNode object at 0x10a9d9b10>, <__main__.TreeNode object at 0x10a9d9e90>], [[1, None, 3, 2], [3, 2, None, 1], [3, 1, None, None, 2], [2, 1, 3], [1, None, 2, None, 3]])",
     "output_type": "error",
     "traceback": [
      "\u001b[0;31m\u001b[0m",
      "\u001b[0;31mAssertionError\u001b[0mTraceback (most recent call last)",
      "\u001b[0;32m<ipython-input-5-75edc8a053c1>\u001b[0m in \u001b[0;36m<module>\u001b[0;34m()\u001b[0m\n\u001b[1;32m     42\u001b[0m \u001b[0;32mfor\u001b[0m \u001b[0mipt\u001b[0m\u001b[0;34m,\u001b[0m\u001b[0mres\u001b[0m \u001b[0;32min\u001b[0m \u001b[0mtests\u001b[0m\u001b[0;34m:\u001b[0m\u001b[0;34m\u001b[0m\u001b[0m\n\u001b[1;32m     43\u001b[0m     \u001b[0mopt\u001b[0m \u001b[0;34m=\u001b[0m \u001b[0msl\u001b[0m\u001b[0;34m.\u001b[0m\u001b[0mnumTrees\u001b[0m\u001b[0;34m(\u001b[0m\u001b[0mipt\u001b[0m\u001b[0;34m)\u001b[0m\u001b[0;34m\u001b[0m\u001b[0m\n\u001b[0;32m---> 44\u001b[0;31m     \u001b[0;32massert\u001b[0m \u001b[0mopt\u001b[0m \u001b[0;34m==\u001b[0m \u001b[0mres\u001b[0m\u001b[0;34m,\u001b[0m \u001b[0;34m(\u001b[0m\u001b[0mipt\u001b[0m\u001b[0;34m,\u001b[0m \u001b[0mopt\u001b[0m\u001b[0;34m,\u001b[0m \u001b[0mres\u001b[0m\u001b[0;34m)\u001b[0m\u001b[0;34m\u001b[0m\u001b[0m\n\u001b[0m",
      "\u001b[0;31mAssertionError\u001b[0m: (3, [<__main__.TreeNode object at 0x10a9d9c10>, <__main__.TreeNode object at 0x10a9d9c50>, <__main__.TreeNode object at 0x10a9d9b90>, <__main__.TreeNode object at 0x10a9d9b10>, <__main__.TreeNode object at 0x10a9d9e90>], [[1, None, 3, 2], [3, 2, None, 1], [3, 1, None, None, 2], [2, 1, 3], [1, None, 2, None, 3]])"
     ]
    }
   ],
   "source": [
    "tests = [\n",
    "    (3, [\n",
    "  [1,None,3,2],\n",
    "  [3,2,None,1],\n",
    "  [3,1,None,None,2],\n",
    "  [2,1,3],\n",
    "  [1,None,2,None,3]\n",
    "])\n",
    "]\n",
    "\n",
    "class TreeNode(object):\n",
    "    def __init__(self, x):\n",
    "        self.val = x\n",
    "        self.left = None\n",
    "        self.right = None\n",
    "\n",
    "class Solution(object):\n",
    "    def numTrees(self, n):\n",
    "        \"\"\"\n",
    "        :type n: int\n",
    "        :rtype: List[TreeNode]\n",
    "        \"\"\"\n",
    "        return self.helper(range(1, n+1))\n",
    "    def helper(self, tree):\n",
    "        # tree 为有序数组\n",
    "        ans = []\n",
    "        # 遍历可能的根结点\n",
    "        for i, val in enumerate(tree):\n",
    "            # left、right 分别为左右子树包含的结点\n",
    "            left, right = tree[:i], tree[i+1:]\n",
    "            # 若左子树为 NULL，则令其为 [None]\n",
    "            for ltree in self.helper(left) or [None]:\n",
    "                # 若右子树为 NULL，则令其为 [None]\n",
    "                for rtree in self.helper(right) or [None]:\n",
    "                    root = TreeNode(val)\n",
    "                    root.left, root.right = ltree, rtree\n",
    "                    ans.append(root)\n",
    "        return ans\n",
    "            \n",
    "sl = Solution()\n",
    "for ipt,res in tests:\n",
    "    opt = sl.numTrees(ipt)\n",
    "    assert opt == res, (ipt, opt, res)"
   ]
  },
  {
   "cell_type": "code",
   "execution_count": null,
   "metadata": {},
   "outputs": [],
   "source": []
  }
 ],
 "metadata": {
  "kernelspec": {
   "display_name": "Python 2",
   "language": "python",
   "name": "python2"
  },
  "language_info": {
   "codemirror_mode": {
    "name": "ipython",
    "version": 2
   },
   "file_extension": ".py",
   "mimetype": "text/x-python",
   "name": "python",
   "nbconvert_exporter": "python",
   "pygments_lexer": "ipython2",
   "version": "2.7.14"
  },
  "toc": {
   "base_numbering": 1,
   "nav_menu": {},
   "number_sections": true,
   "sideBar": true,
   "skip_h1_title": false,
   "title_cell": "##",
   "title_sidebar": "Contents",
   "toc_cell": false,
   "toc_position": {},
   "toc_section_display": true,
   "toc_window_display": true
  }
 },
 "nbformat": 4,
 "nbformat_minor": 2
}
