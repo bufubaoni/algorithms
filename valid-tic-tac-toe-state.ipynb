{
 "cells": [
  {
   "cell_type": "code",
   "execution_count": 13,
   "metadata": {},
   "outputs": [],
   "source": [
    "tests = [\n",
    "    ([\"O  \", \"   \", \"   \"], False),\n",
    "    ([\"XOX\", \" X \", \"   \"], False),\n",
    "    ([\"XXX\", \"   \", \"OOO\"], False),\n",
    "    ([\"XOX\", \"O O\", \"XOX\"], True),\n",
    "    ([\"OXX\",\"XOX\",\"OXO\"], False)\n",
    "]\n",
    "from collections import Counter\n",
    "class Solution(object):\n",
    "    def validTicTacToe(self, board):\n",
    "        \"\"\"\n",
    "        :type board: List[str]\n",
    "        :rtype: bool\n",
    "        \"\"\"\n",
    "        _lst = []\n",
    "        for x in range(len(board[0])):\n",
    "            for y in  range(len(board)):\n",
    "                _lst.append(((x, y), board[y][x]))\n",
    "        dic_val = Counter([item[1] for item in _lst])\n",
    "        \n",
    "        if dic_val.get('X', 0) - dic_val.get('O', 0) not in [0,1]:\n",
    "            return False\n",
    "        if dic_val.get('X', 0) - dic_val.get('O', 0) == 0 and self.xWin(board, 'X'):\n",
    "            return False\n",
    "        if dic_val.get('X', 0) - dic_val.get('O', 0) == 1 and self.xWin(board, 'O'):\n",
    "            return False\n",
    "        return True\n",
    "        \n",
    "#     def xWin(x):\n",
    "        \n",
    "    def xWin(self, board, x):\n",
    "        _res1 = True # /\n",
    "        _res2 = True # \\\n",
    "        _res30 = True # -\n",
    "        _res31 = True # -\n",
    "        _res32 = True # -\n",
    "        _res40 = True # 1\n",
    "        _res41 = True # 1\n",
    "        _res42 = True # 1\n",
    "        for item in range(3):\n",
    "            if board[item][item] != x:\n",
    "                _res1 = False\n",
    "            if board[item][2-item] != x:\n",
    "                _res2 = False\n",
    "            if board[item][0] != x:\n",
    "                _res30 = False\n",
    "            if board[item][1] != x:\n",
    "                _res31 = False\n",
    "            if board[item][2] != x:\n",
    "                _res32 = False\n",
    "            if board[0][item] != x:\n",
    "                _res40 = False\n",
    "            if board[1][item] != x:\n",
    "                _res41 = False \n",
    "            if board[2][item] != x:\n",
    "                _res42 = False \n",
    "        \n",
    "        return _res1 or _res2 or _res30 or _res31 or _res32 or _res40 or _res41 or _res42\n",
    "                \n",
    "            \n",
    "        \n",
    "        \n",
    "sl = Solution()\n",
    "for ipt, res in tests:\n",
    "    opt = sl.validTicTacToe(ipt)\n",
    "    assert opt == res, (ipt, res, opt)\n"
   ]
  },
  {
   "cell_type": "code",
   "execution_count": 6,
   "metadata": {},
   "outputs": [
    {
     "data": {
      "text/plain": [
       "[0, 1, 2]"
      ]
     },
     "execution_count": 6,
     "metadata": {},
     "output_type": "execute_result"
    }
   ],
   "source": [
    "range(3)"
   ]
  },
  {
   "cell_type": "code",
   "execution_count": null,
   "metadata": {},
   "outputs": [],
   "source": []
  }
 ],
 "metadata": {
  "kernelspec": {
   "display_name": "Python 2",
   "language": "python",
   "name": "python2"
  },
  "language_info": {
   "codemirror_mode": {
    "name": "ipython",
    "version": 2
   },
   "file_extension": ".py",
   "mimetype": "text/x-python",
   "name": "python",
   "nbconvert_exporter": "python",
   "pygments_lexer": "ipython2",
   "version": "2.7.14"
  },
  "toc": {
   "base_numbering": 1,
   "nav_menu": {},
   "number_sections": true,
   "sideBar": true,
   "skip_h1_title": false,
   "title_cell": "##",
   "title_sidebar": "Contents",
   "toc_cell": false,
   "toc_position": {},
   "toc_section_display": true,
   "toc_window_display": true
  }
 },
 "nbformat": 4,
 "nbformat_minor": 2
}
