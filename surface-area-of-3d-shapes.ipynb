{
 "cells": [
  {
   "cell_type": "code",
   "execution_count": 22,
   "metadata": {},
   "outputs": [],
   "source": [
    "tests = [\n",
    "    ([[2]], 10),\n",
    "    ([[1,2],[3,4]], 34),\n",
    "    ([[1,0],[0,2]], 16),\n",
    "    ([[1,1,1],[1,0,1],[1,1,1]], 32),\n",
    "    ([[2,2,2],[2,1,2],[2,2,2]], 46)\n",
    "]\n",
    "class Solution(object):\n",
    "    def surfaceArea(self, grid):\n",
    "        \"\"\"\n",
    "        :type grid: List[List[int]]\n",
    "        :rtype: int\n",
    "        \"\"\"\n",
    "        x_size = len(grid[0])\n",
    "        y_size = len(grid)\n",
    "        ans = 0\n",
    "        for x in range(x_size):\n",
    "            for y in range(y_size):\n",
    "                if grid[y][x]:\n",
    "                    ans += grid[y][x] * 4 + 2\n",
    "                    if y-1 >= 0:\n",
    "                        ans -= min(grid[y][x] , grid[y-1][x]) *2\n",
    "                    if x-1 >= 0:\n",
    "                        ans -= min(grid[y][x] , grid[y][x-1]) *2\n",
    "                \n",
    "        return ans\n",
    "sl = Solution()\n",
    "for ipt,res in tests:\n",
    "    opt = sl.surfaceArea(ipt)\n",
    "    assert opt == res, (ipt, opt, res)"
   ]
  },
  {
   "cell_type": "code",
   "execution_count": null,
   "metadata": {},
   "outputs": [],
   "source": []
  }
 ],
 "metadata": {
  "kernelspec": {
   "display_name": "Python 2",
   "language": "python",
   "name": "python2"
  },
  "language_info": {
   "codemirror_mode": {
    "name": "ipython",
    "version": 2
   },
   "file_extension": ".py",
   "mimetype": "text/x-python",
   "name": "python",
   "nbconvert_exporter": "python",
   "pygments_lexer": "ipython2",
   "version": "2.7.14"
  },
  "toc": {
   "base_numbering": 1,
   "nav_menu": {},
   "number_sections": true,
   "sideBar": true,
   "skip_h1_title": false,
   "title_cell": "##",
   "title_sidebar": "Contents",
   "toc_cell": false,
   "toc_position": {},
   "toc_section_display": true,
   "toc_window_display": true
  }
 },
 "nbformat": 4,
 "nbformat_minor": 2
}
