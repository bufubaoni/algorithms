{
 "cells": [
  {
   "cell_type": "code",
   "execution_count": 1,
   "metadata": {},
   "outputs": [
    {
     "ename": "ValueError",
     "evalue": "10 is not in list",
     "output_type": "error",
     "traceback": [
      "\u001b[0;31m\u001b[0m",
      "\u001b[0;31mValueError\u001b[0mTraceback (most recent call last)",
      "\u001b[0;32m<ipython-input-1-66711bc2a713>\u001b[0m in \u001b[0;36m<module>\u001b[0;34m()\u001b[0m\n\u001b[0;32m----> 1\u001b[0;31m \u001b[0;34m[\u001b[0m\u001b[0;36m1\u001b[0m\u001b[0;34m,\u001b[0m\u001b[0;36m2\u001b[0m\u001b[0;34m,\u001b[0m\u001b[0;36m3\u001b[0m\u001b[0;34m]\u001b[0m\u001b[0;34m.\u001b[0m\u001b[0mindex\u001b[0m\u001b[0;34m(\u001b[0m\u001b[0;36m10\u001b[0m\u001b[0;34m)\u001b[0m\u001b[0;34m\u001b[0m\u001b[0m\n\u001b[0m",
      "\u001b[0;31mValueError\u001b[0m: 10 is not in list"
     ]
    }
   ],
   "source": [
    "class Solution(object):\n",
    "    def numRookCaptures(self, board):\n",
    "        \"\"\"\n",
    "        :type board: List[List[str]]\n",
    "        :rtype: int\n",
    "        \"\"\"\n",
    "        \n",
    "        x_size = len(board[0])\n",
    "        y_size = len(board)\n",
    "        R = (0,0)\n",
    "        for y in range(y_size):\n",
    "            for x in range(x_size):\n",
    "                if board[y][x] == \"R\":\n",
    "                    R=(x, y)\n",
    "        bfs = [R]\n",
    "\n",
    "        directions = [(0,1),(1,0),(0,-1),(-1,0)]\n",
    "        count = 0\n",
    "        pathed = []\n",
    "        while bfs:\n",
    "            lv = []\n",
    "            for (x, y) in bfs:\n",
    "                pathed.append((x, y))\n",
    "                for x_d, y_d in directions:\n",
    "                    if (y+y_d == R[1] or x+x_d == R[0]) and (x>0 and x+x_d< x_size)and( y>0 and y+y_d<y_size) and (x+x_d, y+y_d)not in pathed:\n",
    "                        if board[y+y_d][x+x_d] == '.' :\n",
    "                            lv.append((x+x_d, y+y_d))\n",
    "                        elif board[y+y_d][x+x_d] == \"p\":\n",
    "                            count += 1\n",
    "                        else:\n",
    "                            pass\n",
    "            print lv\n",
    "            bfs = lv\n",
    "        return count"
   ]
  },
  {
   "cell_type": "code",
   "execution_count": null,
   "metadata": {},
   "outputs": [],
   "source": []
  }
 ],
 "metadata": {
  "kernelspec": {
   "display_name": "Python 2",
   "language": "python",
   "name": "python2"
  },
  "language_info": {
   "codemirror_mode": {
    "name": "ipython",
    "version": 2
   },
   "file_extension": ".py",
   "mimetype": "text/x-python",
   "name": "python",
   "nbconvert_exporter": "python",
   "pygments_lexer": "ipython2",
   "version": "2.7.14"
  },
  "toc": {
   "base_numbering": 1,
   "nav_menu": {},
   "number_sections": true,
   "sideBar": true,
   "skip_h1_title": false,
   "title_cell": "##",
   "title_sidebar": "Contents",
   "toc_cell": false,
   "toc_position": {},
   "toc_section_display": true,
   "toc_window_display": true
  }
 },
 "nbformat": 4,
 "nbformat_minor": 2
}
