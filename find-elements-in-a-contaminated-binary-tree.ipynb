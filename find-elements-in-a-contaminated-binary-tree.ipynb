{
 "cells": [
  {
   "cell_type": "code",
   "execution_count": null,
   "metadata": {},
   "outputs": [],
   "source": [
    "# Definition for a binary tree node.\n",
    "# class TreeNode(object):\n",
    "#     def __init__(self, x):\n",
    "#         self.val = x\n",
    "#         self.left = None\n",
    "#         self.right = None\n",
    "\n",
    "class FindElements(object):\n",
    "\n",
    "    def __init__(self, root):\n",
    "        \"\"\"\n",
    "        :type root: TreeNode\n",
    "        \"\"\"\n",
    "        bfs=[root,(0, 0)]\n",
    "        self.set=set()\n",
    "        while bfs:\n",
    "            lv = []\n",
    "            for item, (x, y) in root:\n",
    "                item.val = x\n",
    "                self.set.add(x)\n",
    "                if item.left:\n",
    "                    lv.append(item.left,(2*x+1  ,y+1))\n",
    "                if item.right:\n",
    "                    lv.append(item.right,(2*x+2 ,y+1))\n",
    "\n",
    "\n",
    "    def find(self, target):\n",
    "        \"\"\"\n",
    "        :type target: int\n",
    "        :rtype: bool\n",
    "        \"\"\"\n",
    "        return target in self.set"
   ]
  },
  {
   "cell_type": "code",
   "execution_count": 6,
   "metadata": {},
   "outputs": [
    {
     "ename": "SyntaxError",
     "evalue": "invalid syntax (<ipython-input-6-63b13492f849>, line 7)",
     "output_type": "error",
     "traceback": [
      "\u001b[0;36m  File \u001b[0;32m\"<ipython-input-6-63b13492f849>\"\u001b[0;36m, line \u001b[0;32m7\u001b[0m\n\u001b[0;31m    [16,17,18,19,20,12,22,23,24,25,26,...]\u001b[0m\n\u001b[0m                                      ^\u001b[0m\n\u001b[0;31mSyntaxError\u001b[0m\u001b[0;31m:\u001b[0m invalid syntax\n"
     ]
    }
   ],
   "source": [
    "# Definition for a binary tree node.\n",
    "# class TreeNode(object):\n",
    "#     def __init__(self, x):\n",
    "#         self.val = x\n",
    "#         self.left = None\n",
    "#         self.right = None\n",
    "\n",
    "class FindElements(object):\n",
    "\n",
    "    def __init__(self, root):\n",
    "        \"\"\"\n",
    "        :type root: TreeNode\n",
    "        \"\"\"\n",
    "        bfs=[(root,(0, 0))]\n",
    "        self.set=set()\n",
    "        while bfs:\n",
    "            lv = []\n",
    "            for item, (x, y) in bfs:\n",
    "                item.val = x\n",
    "                self.set.add(x)\n",
    "                if item.left:\n",
    "                    lv.append((item.left,(2*x+1  ,y+1)))\n",
    "                if item.right:\n",
    "                    lv.append((item.right,(2*x+2 ,y+1)))\n",
    "            bfs=lv\n",
    "\n",
    "    def find(self, target):\n",
    "        \"\"\"\n",
    "        :type target: int\n",
    "        :rtype: bool\n",
    "        \"\"\"\n",
    "        return target in self.set"
   ]
  },
  {
   "cell_type": "code",
   "execution_count": 8,
   "metadata": {},
   "outputs": [
    {
     "name": "stdout",
     "output_type": "stream",
     "text": [
      "1\n"
     ]
    }
   ],
   "source": [
    "\n",
    "print sum([ pow(2, i) for i in range(0+1)])"
   ]
  },
  {
   "cell_type": "code",
   "execution_count": null,
   "metadata": {},
   "outputs": [],
   "source": []
  }
 ],
 "metadata": {
  "kernelspec": {
   "display_name": "Python 2",
   "language": "python",
   "name": "python2"
  },
  "language_info": {
   "codemirror_mode": {
    "name": "ipython",
    "version": 2
   },
   "file_extension": ".py",
   "mimetype": "text/x-python",
   "name": "python",
   "nbconvert_exporter": "python",
   "pygments_lexer": "ipython2",
   "version": "2.7.14"
  },
  "toc": {
   "base_numbering": 1,
   "nav_menu": {},
   "number_sections": true,
   "sideBar": true,
   "skip_h1_title": false,
   "title_cell": "##",
   "title_sidebar": "Contents",
   "toc_cell": false,
   "toc_position": {},
   "toc_section_display": true,
   "toc_window_display": true
  }
 },
 "nbformat": 4,
 "nbformat_minor": 2
}
