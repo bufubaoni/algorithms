{
 "cells": [
  {
   "cell_type": "code",
   "execution_count": 9,
   "metadata": {},
   "outputs": [],
   "source": [
    "tests = [\n",
    "    (2, 2),\n",
    "    (3, 5),\n",
    "    (4, 14)\n",
    "]\n",
    "class Solution(object):\n",
    "    def numTrees(self, n):\n",
    "        \"\"\"\n",
    "        :type n: int\n",
    "        :rtype: int\n",
    "        \"\"\"\n",
    "        # G(n) = f(1) + ... +f(n)\n",
    "        # [1,2,3 .... i-1],[i+1,i+2,....n]\n",
    "        # f(i) = G(i - 1)*G(n - i)\n",
    "        # G(2) = f(1) -->(G(0)G(1)) + f(2) -->(G(1)G(0))\n",
    "#         [1,  2,  3,  4]\n",
    "#         [1],[3],[7],[9]\n",
    "#         [1,  2,  5, 14]\n",
    "        if n <2:\n",
    "            return 1\n",
    "        dp = [0] * (n + 1)\n",
    "        dp[1] = 1\n",
    "        dp[0] = 1\n",
    "        for i in range(2, n + 1):\n",
    "            for j in range(1, i + 1):\n",
    "                dp[i] += dp[j-1]*dp[i-j]\n",
    "        return dp[n]\n",
    "            \n",
    "sl = Solution()\n",
    "for ipt,res in tests:\n",
    "    opt = sl.numTrees(ipt)\n",
    "    assert opt == res, (ipt, opt, res)"
   ]
  },
  {
   "cell_type": "code",
   "execution_count": null,
   "metadata": {},
   "outputs": [],
   "source": []
  }
 ],
 "metadata": {
  "kernelspec": {
   "display_name": "Python 2",
   "language": "python",
   "name": "python2"
  },
  "language_info": {
   "codemirror_mode": {
    "name": "ipython",
    "version": 2
   },
   "file_extension": ".py",
   "mimetype": "text/x-python",
   "name": "python",
   "nbconvert_exporter": "python",
   "pygments_lexer": "ipython2",
   "version": "2.7.14"
  },
  "toc": {
   "base_numbering": 1,
   "nav_menu": {},
   "number_sections": true,
   "sideBar": true,
   "skip_h1_title": false,
   "title_cell": "##",
   "title_sidebar": "Contents",
   "toc_cell": false,
   "toc_position": {},
   "toc_section_display": true,
   "toc_window_display": true
  }
 },
 "nbformat": 4,
 "nbformat_minor": 2
}
