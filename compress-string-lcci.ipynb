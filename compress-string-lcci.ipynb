{
 "cells": [
  {
   "cell_type": "code",
   "execution_count": 14,
   "metadata": {},
   "outputs": [],
   "source": [
    "tests = [\n",
    "    ('aabcccccaaa',\"a2b1c5a3\"),\n",
    "    (\"abbccd\", \"abbccd\"),\n",
    "    ('','')\n",
    "]\n",
    "class Solution(object):\n",
    "    def compressString(self, S):\n",
    "        \"\"\"\n",
    "        :type S: str\n",
    "        :rtype: str\n",
    "        \"\"\"\n",
    "        if not S:\n",
    "            return ''\n",
    "        a = S[0]\n",
    "        count = 0\n",
    "        _s = \"\"\n",
    "        for item in S:\n",
    "            if item == a:\n",
    "                count+=1\n",
    "            else:\n",
    "                _s += a +str(count)\n",
    "                a = item\n",
    "                count = 1\n",
    "        _s += a +str(count)\n",
    "        if len(_s) >= len(S):\n",
    "            return S\n",
    "        return _s\n",
    "            \n",
    "sl = Solution()\n",
    "for ipt,res in tests:\n",
    "    opt = sl.compressString(ipt)\n",
    "    assert opt == res, (ipt, opt, res)"
   ]
  },
  {
   "cell_type": "code",
   "execution_count": 1,
   "metadata": {},
   "outputs": [
    {
     "name": "stdout",
     "output_type": "stream",
     "text": [
      "90909\n"
     ]
    }
   ],
   "source": []
  },
  {
   "cell_type": "code",
   "execution_count": null,
   "metadata": {},
   "outputs": [],
   "source": []
  }
 ],
 "metadata": {
  "kernelspec": {
   "display_name": "Python 2",
   "language": "python",
   "name": "python2"
  },
  "language_info": {
   "codemirror_mode": {
    "name": "ipython",
    "version": 2
   },
   "file_extension": ".py",
   "mimetype": "text/x-python",
   "name": "python",
   "nbconvert_exporter": "python",
   "pygments_lexer": "ipython2",
   "version": "2.7.14"
  },
  "toc": {
   "base_numbering": 1,
   "nav_menu": {},
   "number_sections": true,
   "sideBar": true,
   "skip_h1_title": false,
   "title_cell": "##",
   "title_sidebar": "Contents",
   "toc_cell": false,
   "toc_position": {},
   "toc_section_display": true,
   "toc_window_display": true
  }
 },
 "nbformat": 4,
 "nbformat_minor": 2
}
