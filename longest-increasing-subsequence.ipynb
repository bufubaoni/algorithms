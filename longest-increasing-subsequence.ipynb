{
 "cells": [
  {
   "cell_type": "code",
   "execution_count": 103,
   "metadata": {},
   "outputs": [
    {
     "name": "stdout",
     "output_type": "stream",
     "text": [
      "[1, 1, 1, 2, 2, 3, 4, 4]\n"
     ]
    }
   ],
   "source": [
    "tests = [\n",
    "    ([10,9,2,5,3,7,101,18], 4)\n",
    "]\n",
    "class Solution(object):\n",
    "    def lengthOfLIS(self, nums):\n",
    "        \"\"\"\n",
    "        :type nums: List[int]\n",
    "        :rtype: int\n",
    "        \"\"\"\n",
    "        size = len(nums)\n",
    "        lt = [1] * size\n",
    "        for i in range(1, size):\n",
    "            for j in range(i):\n",
    "                if nums[i] > nums[j]:\n",
    "                    lt[i] = max(lt[i], lt[j] + 1)\n",
    "        print lt\n",
    "        return max(lt)\n",
    "    \n",
    "    \n",
    "sl = Solution()\n",
    "for ipt, res in tests:\n",
    "    result = sl.lengthOfLIS(ipt)\n",
    "    assert result == res, (ipt, res, result)\n",
    "        "
   ]
  },
  {
   "cell_type": "code",
   "execution_count": 110,
   "metadata": {},
   "outputs": [
    {
     "name": "stdout",
     "output_type": "stream",
     "text": [
      "[[10], [9], [2], [2, 5], [2, 3], [2, 5, 7], [2, 5, 7, 101], [2, 5, 7, 18]]\n"
     ]
    }
   ],
   "source": [
    "def st(nums):\n",
    "    lt = []\n",
    "    for i, item in enumerate(nums):\n",
    "        lt.append(list())\n",
    "        lt[i].append(item)\n",
    "        for j in range(i):\n",
    "            if nums[i] > nums[j]:\n",
    "                if len(lt[j]) + 1 > len(lt[i]):\n",
    "                    lt[i] = list(lt[j])\n",
    "                    lt[i].append(nums[i])\n",
    "    print lt\n",
    "st([10,9,2,5,3,7,101,18])"
   ]
  },
  {
   "cell_type": "code",
   "execution_count": null,
   "metadata": {},
   "outputs": [],
   "source": []
  }
 ],
 "metadata": {
  "kernelspec": {
   "display_name": "Python 2",
   "language": "python",
   "name": "python2"
  },
  "toc": {
   "base_numbering": 1,
   "nav_menu": {},
   "number_sections": true,
   "sideBar": true,
   "skip_h1_title": false,
   "title_cell": "##",
   "title_sidebar": "Contents",
   "toc_cell": false,
   "toc_position": {},
   "toc_section_display": true,
   "toc_window_display": true
  }
 },
 "nbformat": 4,
 "nbformat_minor": 2
}
