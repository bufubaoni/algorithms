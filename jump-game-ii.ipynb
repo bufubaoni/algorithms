{
 "cells": [
  {
   "cell_type": "code",
   "execution_count": 176,
   "metadata": {},
   "outputs": [
    {
     "name": "stdout",
     "output_type": "stream",
     "text": [
      "[0]\n",
      "[0, 4]\n",
      "[0, 4]\n",
      "[0, 4, 12]\n",
      "[0, 4, 12]\n",
      "[0, 4, 12, 14]\n"
     ]
    },
    {
     "ename": "AssertionError",
     "evalue": "([7, 0, 9, 6, 9, 6, 1, 7, 9, 0, 1, 2, 9, 0, 3], 3, 2)",
     "output_type": "error",
     "traceback": [
      "\u001b[0;31m\u001b[0m",
      "\u001b[0;31mAssertionError\u001b[0mTraceback (most recent call last)",
      "\u001b[0;32m<ipython-input-176-ac62151f6185>\u001b[0m in \u001b[0;36m<module>\u001b[0;34m()\u001b[0m\n\u001b[1;32m     52\u001b[0m \u001b[0;32mfor\u001b[0m \u001b[0mipt\u001b[0m\u001b[0;34m,\u001b[0m \u001b[0mres\u001b[0m \u001b[0;32min\u001b[0m \u001b[0mtests\u001b[0m\u001b[0;34m:\u001b[0m\u001b[0;34m\u001b[0m\u001b[0m\n\u001b[1;32m     53\u001b[0m     \u001b[0mopt\u001b[0m \u001b[0;34m=\u001b[0m \u001b[0msl\u001b[0m\u001b[0;34m.\u001b[0m\u001b[0mjump\u001b[0m\u001b[0;34m(\u001b[0m\u001b[0mipt\u001b[0m\u001b[0;34m)\u001b[0m\u001b[0;34m\u001b[0m\u001b[0m\n\u001b[0;32m---> 54\u001b[0;31m     \u001b[0;32massert\u001b[0m \u001b[0mopt\u001b[0m \u001b[0;34m==\u001b[0m \u001b[0mres\u001b[0m\u001b[0;34m,\u001b[0m \u001b[0;34m(\u001b[0m\u001b[0mipt\u001b[0m\u001b[0;34m,\u001b[0m \u001b[0mopt\u001b[0m\u001b[0;34m,\u001b[0m \u001b[0mres\u001b[0m\u001b[0;34m)\u001b[0m\u001b[0;34m\u001b[0m\u001b[0m\n\u001b[0m",
      "\u001b[0;31mAssertionError\u001b[0m: ([7, 0, 9, 6, 9, 6, 1, 7, 9, 0, 1, 2, 9, 0, 3], 3, 2)"
     ]
    }
   ],
   "source": [
    "import pdb\n",
    "tests = [\n",
    "#     ([2,3,1,1,4], 2),\n",
    "#     ([2,1], 1),\n",
    "#     ([0], 0),\n",
    "#     ([1], 0),\n",
    "#     [[1,3,2], 2],\n",
    "#     ([1,1,1,1], 3),\n",
    "#     ([2,3,1], 1),\n",
    "#     ([1,2,1,1,1], 3),\n",
    "#     ([10,9,8,7,6,5,4,3,2,1,1,0], 2),\n",
    "#     ([1,1,1,2,1], 4),\n",
    "    ([7,0,9,6,9,6,1,7,9,0,1,2,9,0,3], 2)\n",
    "]\n",
    "class Solution(object):\n",
    "    def jump(self, nums):\n",
    "        \"\"\"\n",
    "        :type nums: List[int]\n",
    "        :rtype: int\n",
    "        \"\"\"\n",
    "        if len(nums) <2:\n",
    "            return 0\n",
    "        # [2,3,1,1,4] 0->1->4 两步骤 找到 下一个区间的最大值 记录下 idx\n",
    "        path = [0] # 记录路径的idx\n",
    "        \n",
    "        while path[-1] < len(nums) - 1 and nums[path[-1]] < len(nums) - 1:\n",
    "            \n",
    "            idx = path[-1] + 1\n",
    "            mx = (0, 0)\n",
    "            # 如果当前坐标 已经可以跳到结束\n",
    "            if idx + nums[path[-1]] >len(nums):\n",
    "                end = len(nums)\n",
    "            else:\n",
    "                end = idx + nums[path[-1]]\n",
    "            for i in range(idx, end):\n",
    "                if mx[0] <= nums[i] + 1:\n",
    "                    mx = (nums[i], i)\n",
    "            print path\n",
    "            path.append(mx[1])\n",
    "            \n",
    "            print path\n",
    "            if len(path) > 50:\n",
    "                break\n",
    "#         print path\n",
    "        if len(nums)-1 not in path:\n",
    "            return len(path)\n",
    "        return len(path) -1\n",
    "                \n",
    "        \n",
    "        \n",
    "sl = Solution()\n",
    "for ipt, res in tests:\n",
    "    opt = sl.jump(ipt)\n",
    "    assert opt == res, (ipt, opt, res)"
   ]
  },
  {
   "cell_type": "code",
   "execution_count": 132,
   "metadata": {},
   "outputs": [
    {
     "data": {
      "text/plain": [
       "[2]"
      ]
     },
     "execution_count": 132,
     "metadata": {},
     "output_type": "execute_result"
    }
   ],
   "source": [
    "range(2,3)"
   ]
  },
  {
   "cell_type": "code",
   "execution_count": 323,
   "metadata": {},
   "outputs": [],
   "source": [
    "import pdb\n",
    "tests = [\n",
    "    ([2,3,1,1,4], 2),\n",
    "    ([2,1], 1),\n",
    "    ([0], 0),\n",
    "    ([1], 0),\n",
    "    [[1,3,2], 2],\n",
    "    ([1,1,1,1], 3),\n",
    "    ([2,3,1], 1),\n",
    "    ([1,2,1,1,1], 3),\n",
    "    ([10,9,8,7,6,5,4,3,2,1,1,0], 2),\n",
    "    ([1,1,1,2,1], 4),\n",
    "#     ([7,0,9,6,9,6,1,7,9,0,1,2,9,0,3], 2)\n",
    "]\n",
    "class Solution(object):\n",
    "    def jump(self, nums):\n",
    "        \"\"\"\n",
    "        :type nums: List[int]\n",
    "        :rtype: int\n",
    "        \"\"\"\n",
    "        if len(nums) <2:\n",
    "            return 0\n",
    "        end = 0\n",
    "        maxDist = 0\n",
    "        count = 0\n",
    "        end_idx = len(nums) - 1\n",
    "        for i, jump in enumerate(nums):\n",
    "            maxDist = max(maxDist, i + jump)\n",
    "            if maxDist >= end_idx:\n",
    "                return count + 1\n",
    "            if i == end:\n",
    "                count += 1\n",
    "                end = maxDist\n",
    "        return count\n",
    "        \n",
    "        \n",
    "sl = Solution()\n",
    "for ipt, res in tests:\n",
    "    opt = sl.jump(ipt)\n",
    "    assert opt == res, (ipt, opt, res)"
   ]
  },
  {
   "cell_type": "code",
   "execution_count": null,
   "metadata": {},
   "outputs": [],
   "source": []
  },
  {
   "cell_type": "code",
   "execution_count": null,
   "metadata": {},
   "outputs": [],
   "source": []
  }
 ],
 "metadata": {
  "kernelspec": {
   "display_name": "Python 2",
   "language": "python",
   "name": "python2"
  },
  "language_info": {
   "codemirror_mode": {
    "name": "ipython",
    "version": 2
   },
   "file_extension": ".py",
   "mimetype": "text/x-python",
   "name": "python",
   "nbconvert_exporter": "python",
   "pygments_lexer": "ipython2",
   "version": "2.7.14"
  },
  "toc": {
   "base_numbering": 1,
   "nav_menu": {},
   "number_sections": true,
   "sideBar": true,
   "skip_h1_title": false,
   "title_cell": "##",
   "title_sidebar": "Contents",
   "toc_cell": false,
   "toc_position": {
    "height": "calc(100% - 180px)",
    "left": "10px",
    "top": "150px",
    "width": "165px"
   },
   "toc_section_display": true,
   "toc_window_display": true
  }
 },
 "nbformat": 4,
 "nbformat_minor": 2
}
