{
 "cells": [
  {
   "cell_type": "code",
   "execution_count": 1,
   "metadata": {},
   "outputs": [
    {
     "name": "stdout",
     "output_type": "stream",
     "text": [
      "Automatic pdb calling has been turned ON\n",
      "-----------\n",
      "-----------\n",
      "-----------\n",
      "-----------\n",
      "-----------\n",
      "-----------\n",
      "-----------\n"
     ]
    }
   ],
   "source": [
    "%pdb on\n",
    "from pdb import set_trace as bp\n",
    "tests = (\n",
    "    ([[0,2],[4,6],[8,10],[1,9],[1,5],[5,9]], 10 , 3),\n",
    "    ([[0,1],[1,2]],5 , -1),\n",
    "    ([[0,1],[6,8],[0,2],[5,6],[0,4],[0,3],[6,7],[1,3],[4,7],[1,4],[2,5],[2,6],[3,4],[4,5],[5,7],[6,9]], 9, 3),\n",
    "    ([[0,4],[2,8]], 5, 2),\n",
    "    ([[0,2],[4,8]] ,5, -1),\n",
    "    ([[0,0],[9,9],[2,10],[0,3],[0,5],[3,4],[6,10],[1,2],[4,7],[5,6]], 5,1),\n",
    "    ([[0,5],[1,6],[2,7],[3,8],[4,9],[5,10],[6,11],[7,12],[8,13],[9,14],[10,15],[11,16],[12,17],[13,18],[14,19],[15,20],[16,21],[17,22],[18,23],[19,24],[20,25],[21,26],[22,27],[23,28],[24,29],[25,30],[26,31],[27,32],[28,33],[29,34],[30,35],[31,36],[32,37],[33,38],[34,39],[35,40],[36,41],[37,42],[38,43],[39,44],[40,45],[41,46],[42,47],[43,48],[44,49],[45,50],[46,51],[47,52],[48,53],[49,54]], 50, 10)\n",
    ")\n",
    "\n",
    "class Solution(object):\n",
    "    def videoStitching(self, clips, T):\n",
    "        \"\"\"\n",
    "        :type clips: List[List[int]]\n",
    "        :type T: int\n",
    "        :rtype: int\n",
    "        \"\"\"\n",
    "        p_len = 0\n",
    "        path = []\n",
    "        len_path = 0\n",
    "        while p_len < T:\n",
    "            new_start = p_len\n",
    "#             print new_start, p_len, id(new_start),id(p_len)\n",
    "            for start, end in clips:\n",
    "#                 print \"point:{point}, p_len:{p_len}, new_start:{new_start}\".format(point=(start, end),p_len=p_len, new_start=new_start)\n",
    "                if p_len >= start and new_start < end:\n",
    "                    new_start = end\n",
    "            if new_start > p_len:\n",
    "                p_len = new_start\n",
    "                len_path += 1\n",
    "                # path.append((start, end))\n",
    "            else:\n",
    "                break\n",
    "#                 print \"point:{point}, p_len:{p_len}, new_start:{new_start}\".format(point=(start, end),p_len=p_len, new_start=new_start)\n",
    "        if p_len >= T:\n",
    "            return len_path\n",
    "        return -1\n",
    "    \n",
    "sl = Solution()\n",
    "for clips, T, res in tests:\n",
    "    print '-----------'\n",
    "    result = sl.videoStitching(clips, T)\n",
    "    assert result == res, (clips, T, res, result)"
   ]
  },
  {
   "cell_type": "code",
   "execution_count": null,
   "metadata": {},
   "outputs": [],
   "source": []
  },
  {
   "cell_type": "code",
   "execution_count": null,
   "metadata": {},
   "outputs": [],
   "source": []
  },
  {
   "cell_type": "code",
   "execution_count": null,
   "metadata": {},
   "outputs": [],
   "source": []
  }
 ],
 "metadata": {
  "kernelspec": {
   "display_name": "Python 2",
   "language": "python",
   "name": "python2"
  },
  "language_info": {
   "codemirror_mode": {
    "name": "ipython",
    "version": 2
   },
   "file_extension": ".py",
   "mimetype": "text/x-python",
   "name": "python",
   "nbconvert_exporter": "python",
   "pygments_lexer": "ipython2",
   "version": "2.7.14"
  },
  "toc": {
   "base_numbering": 1,
   "nav_menu": {},
   "number_sections": true,
   "sideBar": true,
   "skip_h1_title": false,
   "title_cell": "##",
   "title_sidebar": "Contents",
   "toc_cell": false,
   "toc_position": {},
   "toc_section_display": true,
   "toc_window_display": true
  }
 },
 "nbformat": 4,
 "nbformat_minor": 2
}
