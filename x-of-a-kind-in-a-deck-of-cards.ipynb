{
 "cells": [
  {
   "cell_type": "code",
   "execution_count": null,
   "metadata": {},
   "outputs": [],
   "source": [
    "from collections import Counter\n",
    "import fractions\n",
    "class Solution(object):\n",
    "    def hasGroupsSizeX(self, deck):\n",
    "        \"\"\"\n",
    "        :type deck: List[int]\n",
    "        :rtype: bool\n",
    "        \"\"\"\n",
    "        if not deck:\n",
    "            return False\n",
    "        dic_deck = Counter(deck)\n",
    "        dec = dic_deck.values()\n",
    "        mx = dec[0]\n",
    "        for item in dec:\n",
    "            if fractions.gcd(mx, item)!=1:\n",
    "                mx = fractions.gcd(mx, item)\n",
    "            else:\n",
    "                return False\n",
    "        return True"
   ]
  }
 ],
 "metadata": {
  "kernelspec": {
   "display_name": "Python 2",
   "language": "python",
   "name": "python2"
  },
  "language_info": {
   "codemirror_mode": {
    "name": "ipython",
    "version": 2
   },
   "file_extension": ".py",
   "mimetype": "text/x-python",
   "name": "python",
   "nbconvert_exporter": "python",
   "pygments_lexer": "ipython2",
   "version": "2.7.14"
  },
  "toc": {
   "base_numbering": 1,
   "nav_menu": {},
   "number_sections": true,
   "sideBar": true,
   "skip_h1_title": false,
   "title_cell": "##",
   "title_sidebar": "Contents",
   "toc_cell": false,
   "toc_position": {},
   "toc_section_display": true,
   "toc_window_display": true
  }
 },
 "nbformat": 4,
 "nbformat_minor": 2
}
