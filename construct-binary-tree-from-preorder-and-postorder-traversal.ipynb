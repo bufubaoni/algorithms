{
 "cells": [
  {
   "cell_type": "code",
   "execution_count": null,
   "metadata": {},
   "outputs": [],
   "source": [
    "# Definition for a binary tree node.\n",
    "class TreeNode(object):\n",
    "    def __init__(self, x):\n",
    "        self.val = x\n",
    "        self.left = None\n",
    "        self.right = None\n",
    "\n",
    "class Solution(object):\n",
    "    def constructFromPrePost(self, pre, post):\n",
    "        \"\"\"\n",
    "        :type pre: List[int]\n",
    "        :type post: List[int]\n",
    "        :rtype: TreeNode\n",
    "        \"\"\"\n",
    "        self.post_idx = 0\n",
    "        self.pre_idx = 0\n",
    "        return self.dfs(pre , post)\n",
    "    def dfs(self, pre, post):\n",
    "        nd = TreeNode(pre[self.pre_idx])\n",
    "        self.pre_idx += 1\n",
    "        \n",
    "        if nd.val != post[self.post_idx]:\n",
    "            nd.left = self.dfs(pre, post)\n",
    "        if nd.val != post[self.post_idx]:\n",
    "            nd.right = self.dfs(pre, post)\n",
    "        \n",
    "        self.post_idx += 1\n",
    "        return nd\n",
    "    \n",
    "        "
   ]
  }
 ],
 "metadata": {
  "kernelspec": {
   "display_name": "Python 2",
   "language": "python",
   "name": "python2"
  },
  "language_info": {
   "codemirror_mode": {
    "name": "ipython",
    "version": 2
   },
   "file_extension": ".py",
   "mimetype": "text/x-python",
   "name": "python",
   "nbconvert_exporter": "python",
   "pygments_lexer": "ipython2",
   "version": "2.7.14"
  },
  "toc": {
   "base_numbering": 1,
   "nav_menu": {},
   "number_sections": true,
   "sideBar": true,
   "skip_h1_title": false,
   "title_cell": "##",
   "title_sidebar": "Contents",
   "toc_cell": false,
   "toc_position": {},
   "toc_section_display": true,
   "toc_window_display": true
  }
 },
 "nbformat": 4,
 "nbformat_minor": 2
}
