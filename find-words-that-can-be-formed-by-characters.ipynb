{
 "cells": [
  {
   "cell_type": "code",
   "execution_count": 4,
   "metadata": {},
   "outputs": [],
   "source": [
    "tests = [\n",
    "    ([\"cat\",\"bt\",\"hat\",\"tree\"], \"atach\", 6),\n",
    "    ([\"hello\",\"world\",\"leetcode\"], \"welldonehoneyr\", 10),\n",
    "]\n",
    "from collections import Counter\n",
    "class Solution(object):\n",
    "    def countCharacters(self, words, chars):\n",
    "        \"\"\"\n",
    "        :type words: List[str]\n",
    "        :type chars: str\n",
    "        :rtype: int\n",
    "        \"\"\"\n",
    "        dict_char = Counter(chars)\n",
    "        count=0\n",
    "        for item in self.pre_check(words):\n",
    "            count += self.check(item, dict_char)\n",
    "        return count\n",
    "    def pre_check(self, words):\n",
    "        return [Counter(item) for item in words]\n",
    "    \n",
    "    def check(self, w1, dic):\n",
    "        count = 0\n",
    "        for k,v in w1.items():\n",
    "            if dic.get(k, 0) < v:\n",
    "                return 0\n",
    "            else:\n",
    "                count += v\n",
    "        return count\n",
    "            \n",
    "        \n",
    "        \n",
    "sl = Solution()\n",
    "for words, chars, res in tests:\n",
    "    opt = sl.countCharacters(words, chars)\n",
    "    assert res == opt , (words, chars, res, opt)"
   ]
  },
  {
   "cell_type": "code",
   "execution_count": null,
   "metadata": {},
   "outputs": [],
   "source": []
  },
  {
   "cell_type": "code",
   "execution_count": null,
   "metadata": {},
   "outputs": [],
   "source": []
  }
 ],
 "metadata": {
  "kernelspec": {
   "display_name": "Python 2",
   "language": "python",
   "name": "python2"
  },
  "language_info": {
   "codemirror_mode": {
    "name": "ipython",
    "version": 2
   },
   "file_extension": ".py",
   "mimetype": "text/x-python",
   "name": "python",
   "nbconvert_exporter": "python",
   "pygments_lexer": "ipython2",
   "version": "2.7.14"
  },
  "toc": {
   "base_numbering": 1,
   "nav_menu": {},
   "number_sections": true,
   "sideBar": true,
   "skip_h1_title": false,
   "title_cell": "##",
   "title_sidebar": "Contents",
   "toc_cell": false,
   "toc_position": {},
   "toc_section_display": true,
   "toc_window_display": true
  }
 },
 "nbformat": 4,
 "nbformat_minor": 2
}
