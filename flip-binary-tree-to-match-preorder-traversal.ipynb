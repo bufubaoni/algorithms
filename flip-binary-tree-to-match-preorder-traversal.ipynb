{
 "cells": [
  {
   "cell_type": "code",
   "execution_count": null,
   "metadata": {},
   "outputs": [],
   "source": [
    "class Solution(object):\n",
    "    def flipMatchVoyage(self, root, voyage):\n",
    "        \"\"\"\n",
    "        :type root: TreeNode\n",
    "        :type voyage: List[int]\n",
    "        :rtype: List[int]\n",
    "        \"\"\"\n",
    "        ans = []\n",
    "        self.i = 0\n",
    "        res = self.dfs(root,voyage,  ans)\n",
    "        return ans if res else [-1]\n",
    "    \n",
    "    def dfs(self, root, voyage, s):\n",
    "        if not root:\n",
    "            return True\n",
    "        if root.val != voyage[self.i ]:\n",
    "            return False\n",
    "        self.i += 1\n",
    "        if root.left and root.left.val == voyage[self.i ]:\n",
    "            return self.dfs(root.left, voyage,  s) and self.dfs(root.right, voyage, s)\n",
    "        elif  root.right and root.right.val == voyage[self.i ]:\n",
    "            if root.left:\n",
    "                s.append(root.val)\n",
    "            return self.dfs(root.right, voyage,  s) and self.dfs(root.left, voyage, s)\n",
    "        return not root.left and not root.right"
   ]
  }
 ],
 "metadata": {
  "kernelspec": {
   "display_name": "Python 2",
   "language": "python",
   "name": "python2"
  },
  "language_info": {
   "codemirror_mode": {
    "name": "ipython",
    "version": 2
   },
   "file_extension": ".py",
   "mimetype": "text/x-python",
   "name": "python",
   "nbconvert_exporter": "python",
   "pygments_lexer": "ipython2",
   "version": "2.7.14"
  },
  "toc": {
   "base_numbering": 1,
   "nav_menu": {},
   "number_sections": true,
   "sideBar": true,
   "skip_h1_title": false,
   "title_cell": "##",
   "title_sidebar": "Contents",
   "toc_cell": false,
   "toc_position": {},
   "toc_section_display": true,
   "toc_window_display": true
  }
 },
 "nbformat": 4,
 "nbformat_minor": 2
}
