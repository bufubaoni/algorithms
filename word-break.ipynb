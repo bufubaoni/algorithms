{
 "cells": [
  {
   "cell_type": "code",
   "execution_count": 9,
   "metadata": {},
   "outputs": [],
   "source": [
    "import pdb\n",
    "s = \"leetcode\"\n",
    "\n",
    "wordDict = [\"leet\", \"code\"]\n",
    "\n",
    "tests = [\n",
    "('leetcode', [\"leet\", \"code\"], True),\n",
    "(\"bb\", [\"a\",\"b\",\"bbb\",\"bbbb\"],True),\n",
    "(\"applepenapple\", [\"apple\", \"pen\"], True),\n",
    "(\"catsandog\",[\"cats\", \"dog\", \"sand\", \"and\", \"cat\"], False),\n",
    "\n",
    "(\"cars\",[\"car\",\"ca\",\"rs\"], True),\n",
    "(\"a\",[\"car\",\"ca\",\"a\"], True),\n",
    "(\"acccbccb\", [\"cc\",\"bc\",\"ac\",\"ca\"], False),\n",
    "\n",
    "(\"bccdbacdbdacddabbaaaadababadad\",[\"cbc\",\"bcda\",\"adb\",\"ddca\",\"bad\",\"bbb\",\"dad\",\"dac\",\"ba\",\"aa\",\"bd\",\"abab\",\"bb\",\"dbda\",\"cb\",\"caccc\",\"d\",\"dd\",\"aadb\",\"cc\",\"b\",\"bcc\",\"bcd\",\"cd\",\"cbca\",\"bbd\",\"ddd\",\"dabb\",\"ab\",\"acd\",\"a\",\"bbcc\",\"cdcbd\",\"cada\",\"dbca\",\"ac\",\"abacd\",\"cba\",\"cdb\",\"dbac\",\"aada\",\"cdcda\",\"cdc\",\"dbc\",\"dbcb\",\"bdb\",\"ddbdd\",\"cadaa\",\"ddbc\",\"babb\"],\n",
    "True),\n",
    "(\"a\",[\"a\"], True),\n",
    "(\"aaaaaaaaaaaaaaaaaaaaaaaaaaaaaaaaaaaaaaaaaaaaaaaaaaaaaaaaaaaaaaaaaaaaaaaaaaaaaaaaaaaaaaaaaaaaaaaaaaaaaaaaaaaaaaaaaaaaaaaaaaaaaaaaaaaaaaaaaaaaaaaaaaaaaab\",\n",
    "[\"a\",\"aa\",\"aaa\",\"aaaa\",\"aaaaa\",\"aaaaaa\",\"aaaaaaa\",\"aaaaaaaa\",\"aaaaaaaaa\",\"aaaaaaaaaa\"], False),\n",
    "(\"a\", [], False),\n",
    "(\"aaaaaaaaaaaaaaaaaaaaaaaaaaaaaaaaaaaaaaaaaaaaaaaaaaaaaaaaaaaaaaaaaaaaaaaaaaabaabaaaaaaaaaaaaaaaaaaaaaaaaaaaaaaaaaaaaaaaaaaaaaaaaaaaaaaaaaaaaaaaaaaaaaaaa\",\n",
    "[\"aa\",\"aaa\",\"aaaa\",\"aaaaa\",\"aaaaaa\",\"aaaaaaa\",\"aaaaaaaa\",\"aaaaaaaaa\",\"aaaaaaaaaa\",\"ba\"], False),\n",
    "(\"aaaaaaa\",[\"aaaa\",\"aaa\"], True)\n",
    "]"
   ]
  },
  {
   "cell_type": "code",
   "execution_count": 145,
   "metadata": {},
   "outputs": [],
   "source": [
    "\n",
    "class Solution(object):\n",
    "    def wordBreak(self, s, wordDict):\n",
    "        \"\"\"\n",
    "        :type s: str\n",
    "        :type wordDict: List[str]\n",
    "        :rtype: bool\n",
    "        \"\"\"\n",
    "        if not wordDict:\n",
    "            return False\n",
    "        _s = set(s)\n",
    "        _word_dict = reduce(lambda x, y: set(x) | set(y) , wordDict)\n",
    "        if not _s.issubset(_word_dict):\n",
    "            return False\n",
    "        s_map = self.preWordDict(wordDict)\n",
    "        path = self.build_break(s, s_map, [])\n",
    "        for _,_, new_str in path:\n",
    "            if s == new_str:\n",
    "                return True\n",
    "        return False\n",
    "            \n",
    "    def preWordDict(self, wordDict):\n",
    "        _map = dict()\n",
    "        for item in wordDict:\n",
    "            prefix = item[0]\n",
    "            if not prefix in _map:\n",
    "                _map[prefix] = set()\n",
    "            _map[prefix].add(item)\n",
    "        return _map\n",
    "    \n",
    "    def trim(self, origin, prefix):\n",
    "        if origin.startswith(prefix):\n",
    "            return str(origin[(len(prefix)):])\n",
    "\n",
    "    def build_break(self, origin_str, s_map, path_set):\n",
    "        _path_set=[]\n",
    "        if not path_set:\n",
    "            _ns = origin_str\n",
    "            prefix = origin_str[0]\n",
    "            words = s_map.get(prefix, set())\n",
    "            for nxt in words:\n",
    "                origin = self.trim(_ns, nxt)\n",
    "                if origin == None:\n",
    "                    continue\n",
    "                path_set.append(([nxt], origin, nxt))\n",
    "                if nxt == origin_str:\n",
    "                    return path_set\n",
    "\n",
    "        for path, _origin, new_str in path_set:\n",
    "            prefix = _origin[0]\n",
    "            words = s_map.get(prefix, set())\n",
    "            if not words:\n",
    "                continue\n",
    "            \n",
    "            for nxt in words:\n",
    "                _path = list(path)\n",
    "                if len(nxt) > len(_origin):\n",
    "                    continue\n",
    "                __origin = self.trim(_origin, nxt)\n",
    "                if __origin is None:\n",
    "                    continue\n",
    "                _path.append(nxt)\n",
    "                new_str = ''.join(_path)\n",
    "                _path_set.append((_path, __origin, new_str))\n",
    "                if new_str == origin_str:\n",
    "                    return _path_set\n",
    "        \n",
    "        \n",
    "        if not _path_set:\n",
    "            return [[[''], 0, '0']]\n",
    "#         print _path_set ,'========'\n",
    "        return self.build_break(origin_str, s_map, _path_set)\n",
    "ls = Solution()\n",
    "for inpt, wd, result in tests:\n",
    "    assert ls.wordBreak(inpt, wd) == result, (inpt, wd)\n",
    "    "
   ]
  },
  {
   "cell_type": "markdown",
   "metadata": {},
   "source": [
    "## 使用循环的方法"
   ]
  },
  {
   "cell_type": "code",
   "execution_count": null,
   "metadata": {},
   "outputs": [],
   "source": [
    "from pdb import set_trace as pd\n",
    "\n",
    "def word_break(sentent, word_list):\n",
    "    new_word = \"\"\n",
    "    path = [0]\n",
    "    map_word = set(word_list)\n",
    "    for i in range(len(sentent)+1):\n",
    "        for item in path:\n",
    "            if sentent[item:i] in map_word:\n",
    "                path.append(i)\n",
    "                break\n",
    "    return len(sentent) in path\n",
    "            \n",
    "\n",
    "for inpt, wd, result in tests:\n",
    "\n",
    "    assert word_break(inpt, wd) == result, (inpt, wd)"
   ]
  },
  {
   "cell_type": "markdown",
   "metadata": {},
   "source": [
    "## 计算最短的路径"
   ]
  },
  {
   "cell_type": "code",
   "execution_count": null,
   "metadata": {},
   "outputs": [],
   "source": [
    "def word_break(s, word_list):\n",
    "    word_dict = set(word_list)\n",
    "    end_point = [0]\n",
    "    words = []\n",
    "    for i in range(len(s)+1):\n",
    "        for end in end_point:\n",
    "            if s[end:i] in word_dict:\n",
    "                end_point.append(i)\n",
    "                words.append((end,i))\n",
    "    if len(s) in end_point:\n",
    "        return words\n",
    "    else:\n",
    "        return []\n",
    "\n",
    "for inpt, wd, result in tests:\n",
    "    print word_break(inpt, wd)\n",
    "#     assert word_break(inpt, wd) == result, (inpt, wd)\n",
    "\n"
   ]
  },
  {
   "cell_type": "code",
   "execution_count": null,
   "metadata": {},
   "outputs": [],
   "source": []
  },
  {
   "cell_type": "code",
   "execution_count": 49,
   "metadata": {
    "hide_input": false
   },
   "outputs": [
    {
     "name": "stdout",
     "output_type": "stream",
     "text": [
      "Automatic pdb calling has been turned OFF\n",
      "0 1 0 0 True True\n",
      "0 2 1 0 False True\n",
      "1 2 2 0 False True\n",
      "2 3 2 0 True True\n",
      "0 1 2 2 False False\n",
      "0 2 2 2 False True\n",
      "1 2 2 2 False True\n",
      "2 3 2 2 True True\n",
      "0 1 3 3 False False\n",
      "0 2 3 3 False False\n",
      "1 2 3 3 False False\n",
      "2 3 3 3 False True\n"
     ]
    },
    {
     "data": {
      "text/plain": [
       "([(0, 2), (2, 3)], 3)"
      ]
     },
     "execution_count": 49,
     "metadata": {},
     "output_type": "execute_result"
    }
   ],
   "source": [
    "%pdb\n",
    "word_points = [[0, 1],[0, 2], [1, 2],  [2, 3]]\n",
    "words = \"123\"\n",
    "def min_word_break(word, word_points):\n",
    "    current_len = 0\n",
    "    path = []\n",
    "    while current_len <= len(word):\n",
    "        temp_start = current_len\n",
    "        for start, end in word_points:\n",
    "            print start, end, temp_start, current_len, start >=  temp_start, end >= current_len\n",
    "            if temp_start < end and start <= current_len:\n",
    "                temp_start = end\n",
    "\n",
    "        if  temp_start > current_len:\n",
    "            path.append((current_len, temp_start))\n",
    "            current_len = temp_start\n",
    "        else:\n",
    "            break\n",
    "    return  path, current_len\n",
    "min_word_break(words, word_points)"
   ]
  },
  {
   "cell_type": "code",
   "execution_count": null,
   "metadata": {},
   "outputs": [],
   "source": []
  }
 ],
 "metadata": {
  "kernelspec": {
   "display_name": "Python 2",
   "language": "python",
   "name": "python2"
  },
  "toc": {
   "base_numbering": 1,
   "nav_menu": {},
   "number_sections": true,
   "sideBar": true,
   "skip_h1_title": false,
   "title_cell": "##",
   "title_sidebar": "Contents",
   "toc_cell": false,
   "toc_position": {},
   "toc_section_display": true,
   "toc_window_display": true
  }
 },
 "nbformat": 4,
 "nbformat_minor": 2
}
