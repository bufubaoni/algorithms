{
 "cells": [
  {
   "cell_type": "code",
   "execution_count": null,
   "metadata": {},
   "outputs": [],
   "source": [
    "class CBTInserter(object):\n",
    "\n",
    "    def __init__(self, root):\n",
    "        \"\"\"\n",
    "        :type root: TreeNode\n",
    "        \"\"\"\n",
    "        self.root = root\n",
    "        self.to_insert = None\n",
    "        \n",
    "        self.bfs = [root]\n",
    "        while self.bfs :\n",
    "            nd = self.bfs .pop(0)\n",
    "            if not nd.left:\n",
    "                self.to_insert = nd\n",
    "                return\n",
    "            if not nd.right:\n",
    "                self.bfs .append(nd.left)\n",
    "                self.to_insert = nd\n",
    "                return\n",
    "            self.bfs .append(nd.left)\n",
    "            self.bfs .append(nd.right)\n",
    "        \n",
    "    def insert(self, v):\n",
    "        \"\"\"\n",
    "        :type v: int\n",
    "        :rtype: int\n",
    "        \"\"\"\n",
    "\n",
    "        res = self.to_insert.val\n",
    "        nd = TreeNode(v)\n",
    "        if not self.to_insert.left:\n",
    "            self.to_insert.left = nd\n",
    "            self.bfs.append(nd)\n",
    "        else:\n",
    "            self.to_insert.right = nd\n",
    "            self.to_insert = self.bfs.pop(0)\n",
    "            self.bfs.append(nd)\n",
    "        \n",
    "        return res\n",
    "\n",
    "    def get_root(self):\n",
    "        \"\"\"\n",
    "        :rtype: TreeNode\n",
    "        \"\"\"\n",
    "        return self.root"
   ]
  }
 ],
 "metadata": {
  "kernelspec": {
   "display_name": "Python 2",
   "language": "python",
   "name": "python2"
  },
  "language_info": {
   "codemirror_mode": {
    "name": "ipython",
    "version": 2
   },
   "file_extension": ".py",
   "mimetype": "text/x-python",
   "name": "python",
   "nbconvert_exporter": "python",
   "pygments_lexer": "ipython2",
   "version": "2.7.14"
  },
  "toc": {
   "base_numbering": 1,
   "nav_menu": {},
   "number_sections": true,
   "sideBar": true,
   "skip_h1_title": false,
   "title_cell": "##",
   "title_sidebar": "Contents",
   "toc_cell": false,
   "toc_position": {},
   "toc_section_display": true,
   "toc_window_display": true
  }
 },
 "nbformat": 4,
 "nbformat_minor": 2
}
