{
 "cells": [
  {
   "cell_type": "code",
   "execution_count": 22,
   "metadata": {},
   "outputs": [
    {
     "name": "stdout",
     "output_type": "stream",
     "text": [
      "3:[None,30:[None,15:[None,None]]]\n",
      "30:[None,15:[None,None]]\n"
     ]
    },
    {
     "ename": "AssertionError",
     "evalue": "('[3,null,30,10,null,null,15,null,45]', False, True)",
     "output_type": "error",
     "traceback": [
      "\u001b[0;31m\u001b[0m",
      "\u001b[0;31mAssertionError\u001b[0mTraceback (most recent call last)",
      "\u001b[0;32m<ipython-input-22-a31c09040cb9>\u001b[0m in \u001b[0;36m<module>\u001b[0;34m()\u001b[0m\n\u001b[1;32m     53\u001b[0m     \u001b[0mtree\u001b[0m \u001b[0;34m=\u001b[0m \u001b[0mbuild_tree_from_list\u001b[0m\u001b[0;34m(\u001b[0m\u001b[0mjson\u001b[0m\u001b[0;34m.\u001b[0m\u001b[0mloads\u001b[0m\u001b[0;34m(\u001b[0m\u001b[0mipt\u001b[0m\u001b[0;34m)\u001b[0m\u001b[0;34m)\u001b[0m\u001b[0;34m\u001b[0m\u001b[0m\n\u001b[1;32m     54\u001b[0m     \u001b[0mresult\u001b[0m \u001b[0;34m=\u001b[0m \u001b[0msl\u001b[0m\u001b[0;34m.\u001b[0m\u001b[0misValidBST\u001b[0m\u001b[0;34m(\u001b[0m\u001b[0mtree\u001b[0m\u001b[0;34m)\u001b[0m\u001b[0;34m\u001b[0m\u001b[0m\n\u001b[0;32m---> 55\u001b[0;31m     \u001b[0;32massert\u001b[0m \u001b[0mresult\u001b[0m \u001b[0;34m==\u001b[0m \u001b[0mres\u001b[0m\u001b[0;34m,\u001b[0m \u001b[0;34m(\u001b[0m\u001b[0mipt\u001b[0m\u001b[0;34m,\u001b[0m \u001b[0mres\u001b[0m\u001b[0;34m,\u001b[0m \u001b[0mresult\u001b[0m\u001b[0;34m)\u001b[0m\u001b[0;34m\u001b[0m\u001b[0m\n\u001b[0m",
      "\u001b[0;31mAssertionError\u001b[0m: ('[3,null,30,10,null,null,15,null,45]', False, True)"
     ]
    }
   ],
   "source": [
    "tests = {\n",
    "#     ('[5,1,4,null,null,3,6]', False),\n",
    "#     ('[10,5,15,null,null,6,20]', False),\n",
    "#     ('[0]', True),\n",
    "    ('[3,null,30,10,null,null,15,null,45]', False)\n",
    "    \n",
    "    \n",
    "}\n",
    "class Solution(object):\n",
    "    def isValidBST(self, root):\n",
    "        \"\"\"\n",
    "        :type root: TreeNode\n",
    "        :rtype: bool\n",
    "        \"\"\"\n",
    "        if not root:\n",
    "            return True\n",
    "        print root\n",
    "        return self.check_tree(root)\n",
    "\n",
    "    def check_tree(self, root):\n",
    "        if not isinstance(root.left, TreeNode) and not isinstance(root.right, TreeNode):\n",
    "            return True\n",
    "        root_value = root.val \n",
    "        left = True\n",
    "        right = True\n",
    "        if isinstance(root.left, TreeNode):\n",
    "            left_values = self.get_values_from_tree(root.left, [])\n",
    "            print left_values\n",
    "            for left_value in left_values:\n",
    "                if root_value <= left_value:\n",
    "                    return False\n",
    "            left = self.check_tree(root.left)\n",
    "        if isinstance(root.right, TreeNode):\n",
    "            reight_values = self.get_values_from_tree(root.right, [])\n",
    "            for right_value in reight_values:\n",
    "                if root_value >= right_value:\n",
    "                    return False\n",
    "            right = self.check_tree(root.right)\n",
    "        return left and right\n",
    "    \n",
    "    def get_values_from_tree(self, root, lst):\n",
    "        lst.append(root.val)\n",
    "        if isinstance(root.right, TreeNode):\n",
    "            self.get_values_from_tree(root.right, lst)\n",
    "        if isinstance(root.left, TreeNode):\n",
    "            self.get_values_from_tree(root.left, lst)\n",
    "        return lst\n",
    "    \n",
    "\n",
    "import json\n",
    "sl = Solution()\n",
    "for ipt, res in tests:\n",
    "    tree = build_tree_from_list(json.loads(ipt))\n",
    "    result = sl.isValidBST(tree)\n",
    "    assert result == res, (ipt, res, result)\n"
   ]
  },
  {
   "cell_type": "code",
   "execution_count": 4,
   "metadata": {},
   "outputs": [],
   "source": [
    "class TreeNode(object):\n",
    "    def __init__(self, x):\n",
    "        self.val = x\n",
    "        self.left = None\n",
    "        self.right = None\n",
    "    def __repr__(self):\n",
    "        return \"{}:[{},{}]\".format(self.val, self.left, self.right)"
   ]
  },
  {
   "cell_type": "code",
   "execution_count": 109,
   "metadata": {},
   "outputs": [
    {
     "name": "stdout",
     "output_type": "stream",
     "text": [
      "3:[None,30:[None,15:[None,None]]]\n"
     ]
    }
   ],
   "source": [
    "lst = [3,'None',30,10,'None','None',15,'None',45]\n",
    "def build_tree_from_list(root, llist, i):\n",
    "    pass"
   ]
  },
  {
   "cell_type": "code",
   "execution_count": 96,
   "metadata": {},
   "outputs": [
    {
     "name": "stdout",
     "output_type": "stream",
     "text": [
      "[1, 2]\n"
     ]
    }
   ],
   "source": [
    "print range(1, 3)"
   ]
  },
  {
   "cell_type": "code",
   "execution_count": null,
   "metadata": {},
   "outputs": [],
   "source": []
  }
 ],
 "metadata": {
  "kernelspec": {
   "display_name": "Python 2",
   "language": "python",
   "name": "python2"
  },
  "language_info": {
   "codemirror_mode": {
    "name": "ipython",
    "version": 2
   },
   "file_extension": ".py",
   "mimetype": "text/x-python",
   "name": "python",
   "nbconvert_exporter": "python",
   "pygments_lexer": "ipython2",
   "version": "2.7.14"
  },
  "toc": {
   "base_numbering": 1,
   "nav_menu": {},
   "number_sections": true,
   "sideBar": true,
   "skip_h1_title": false,
   "title_cell": "##",
   "title_sidebar": "Contents",
   "toc_cell": false,
   "toc_position": {},
   "toc_section_display": true,
   "toc_window_display": true
  }
 },
 "nbformat": 4,
 "nbformat_minor": 2
}
